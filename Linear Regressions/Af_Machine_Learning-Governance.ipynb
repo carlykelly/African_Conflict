{
 "cells": [
  {
   "cell_type": "code",
   "execution_count": 1,
   "metadata": {},
   "outputs": [],
   "source": [
    "import pandas as pd\n",
    "from sqlalchemy import create_engine\n",
    "import pymysql\n",
    "import json\n",
    "import pandas as pd\n",
    "import numpy\n",
    "import matplotlib.pyplot as plt\n",
    "import statsmodels.api as sm\n",
    "from statsmodels.sandbox.regression.predstd import wls_prediction_std\n",
    "\n",
    "#from config import local_db_user, local_db_pwd, local_db_endpoint, local_db_port, local_db_name\n",
    "from config import remote_db_endpoint, remote_db_port, remote_db_user, remote_db_pwd, remote_db_name"
   ]
  },
  {
   "cell_type": "code",
   "execution_count": 2,
   "metadata": {},
   "outputs": [],
   "source": [
    "cloud_engine = create_engine(f\"postgresql://{remote_db_user}:{remote_db_pwd}@{remote_db_endpoint}:{remote_db_port}/{remote_db_name}\")"
   ]
  },
  {
   "cell_type": "code",
   "execution_count": 3,
   "metadata": {
    "scrolled": false
   },
   "outputs": [],
   "source": [
    "cloud_conn = cloud_engine.connect()"
   ]
  },
  {
   "cell_type": "code",
   "execution_count": 4,
   "metadata": {},
   "outputs": [],
   "source": [
    "africa_data = pd.read_sql(\"select * from ultimate where year=2018\", cloud_conn)"
   ]
  },
  {
   "cell_type": "code",
   "execution_count": 5,
   "metadata": {},
   "outputs": [
    {
     "data": {
      "text/plain": [
       "country_name                            object\n",
       "country_code                            object\n",
       "year                                     int64\n",
       "conflict_frequency_code                  int64\n",
       "conflict_deaths_code                   float64\n",
       "population_density                     float64\n",
       "population_growth_annual_per           float64\n",
       "total_population                       float64\n",
       "refugee_pop_origin                      object\n",
       "rural_population                       float64\n",
       "rural_population_per                   float64\n",
       "rural_population_growth                float64\n",
       "urban_population                       float64\n",
       "urban_population_per                   float64\n",
       "urban_population_growth                float64\n",
       "corruption_control_estimate            float64\n",
       "corruption_control_percentile          float64\n",
       "government _effectiveness_est          float64\n",
       "government_effectiveness_percentile    float64\n",
       "stability_est                          float64\n",
       "stability_percentile                   float64\n",
       "regulatory_est                         float64\n",
       "regulatory_percentile                  float64\n",
       "ruleoflaw_est                          float64\n",
       "ruleoflaw_percentile                   float64\n",
       "accountability_est                     float64\n",
       "accountability_percentile              float64\n",
       "ethnic_score                           float64\n",
       "gdp_growth_per                         float64\n",
       "gdp_percap_per                         float64\n",
       "mortality_rate                         float64\n",
       "gdp_total                              float64\n",
       "gdp_percap                             float64\n",
       "gni_total                              float64\n",
       "fdi_inflows_gdp                        float64\n",
       "fdi_inflows_total                        int64\n",
       "conflict_fatalities                      int64\n",
       "conflict_events                        float64\n",
       "dtype: object"
      ]
     },
     "execution_count": 5,
     "metadata": {},
     "output_type": "execute_result"
    }
   ],
   "source": [
    "africa_data.dtypes"
   ]
  },
  {
   "cell_type": "code",
   "execution_count": 6,
   "metadata": {},
   "outputs": [
    {
     "data": {
      "text/plain": [
       "Index(['country_name', 'country_code', 'year', 'conflict_frequency_code',\n",
       "       'conflict_deaths_code', 'population_density',\n",
       "       'population_growth_annual_per', 'total_population',\n",
       "       'refugee_pop_origin', 'rural_population', 'rural_population_per',\n",
       "       'rural_population_growth', 'urban_population', 'urban_population_per',\n",
       "       'urban_population_growth', 'corruption_control_estimate',\n",
       "       'corruption_control_percentile', 'government _effectiveness_est',\n",
       "       'government_effectiveness_percentile', 'stability_est',\n",
       "       'stability_percentile', 'regulatory_est', 'regulatory_percentile',\n",
       "       'ruleoflaw_est', 'ruleoflaw_percentile', 'accountability_est',\n",
       "       'accountability_percentile ', 'ethnic_score', 'gdp_growth_per',\n",
       "       'gdp_percap_per', 'mortality_rate', 'gdp_total', 'gdp_percap',\n",
       "       'gni_total', 'fdi_inflows_gdp', 'fdi_inflows_total',\n",
       "       'conflict_fatalities', 'conflict_events'],\n",
       "      dtype='object')"
      ]
     },
     "execution_count": 6,
     "metadata": {},
     "output_type": "execute_result"
    }
   ],
   "source": [
    "africa_data.columns"
   ]
  },
  {
   "cell_type": "code",
   "execution_count": 30,
   "metadata": {},
   "outputs": [
    {
     "data": {
      "text/html": [
       "<div>\n",
       "<style scoped>\n",
       "    .dataframe tbody tr th:only-of-type {\n",
       "        vertical-align: middle;\n",
       "    }\n",
       "\n",
       "    .dataframe tbody tr th {\n",
       "        vertical-align: top;\n",
       "    }\n",
       "\n",
       "    .dataframe thead th {\n",
       "        text-align: right;\n",
       "    }\n",
       "</style>\n",
       "<table border=\"1\" class=\"dataframe\">\n",
       "  <thead>\n",
       "    <tr style=\"text-align: right;\">\n",
       "      <th></th>\n",
       "      <th>corruption_control_estimate</th>\n",
       "      <th>government _effectiveness_est</th>\n",
       "      <th>stability_est</th>\n",
       "      <th>conflict_fatalities</th>\n",
       "    </tr>\n",
       "  </thead>\n",
       "  <tbody>\n",
       "    <tr>\n",
       "      <td>0</td>\n",
       "      <td>-0.64</td>\n",
       "      <td>-0.44</td>\n",
       "      <td>-0.79</td>\n",
       "      <td>66</td>\n",
       "    </tr>\n",
       "    <tr>\n",
       "      <td>1</td>\n",
       "      <td>-1.14</td>\n",
       "      <td>-1.05</td>\n",
       "      <td>-0.32</td>\n",
       "      <td>41</td>\n",
       "    </tr>\n",
       "    <tr>\n",
       "      <td>2</td>\n",
       "      <td>-0.38</td>\n",
       "      <td>-0.57</td>\n",
       "      <td>-0.13</td>\n",
       "      <td>30</td>\n",
       "    </tr>\n",
       "    <tr>\n",
       "      <td>3</td>\n",
       "      <td>0.75</td>\n",
       "      <td>0.33</td>\n",
       "      <td>0.98</td>\n",
       "      <td>1</td>\n",
       "    </tr>\n",
       "    <tr>\n",
       "      <td>4</td>\n",
       "      <td>-0.11</td>\n",
       "      <td>-0.58</td>\n",
       "      <td>-1.04</td>\n",
       "      <td>303</td>\n",
       "    </tr>\n",
       "  </tbody>\n",
       "</table>\n",
       "</div>"
      ],
      "text/plain": [
       "   corruption_control_estimate  government _effectiveness_est  stability_est  \\\n",
       "0                        -0.64                          -0.44          -0.79   \n",
       "1                        -1.14                          -1.05          -0.32   \n",
       "2                        -0.38                          -0.57          -0.13   \n",
       "3                         0.75                           0.33           0.98   \n",
       "4                        -0.11                          -0.58          -1.04   \n",
       "\n",
       "   conflict_fatalities  \n",
       "0                   66  \n",
       "1                   41  \n",
       "2                   30  \n",
       "3                    1  \n",
       "4                  303  "
      ]
     },
     "execution_count": 30,
     "metadata": {},
     "output_type": "execute_result"
    }
   ],
   "source": [
    "africa_gov=africa_data[['corruption_control_estimate','government _effectiveness_est', 'stability_est', 'conflict_fatalities']]\n",
    "africa_gov.head()"
   ]
  },
  {
   "cell_type": "code",
   "execution_count": null,
   "metadata": {},
   "outputs": [],
   "source": []
  },
  {
   "cell_type": "code",
   "execution_count": 32,
   "metadata": {},
   "outputs": [
    {
     "name": "stdout",
     "output_type": "stream",
     "text": [
      "(52, 3) (52, 1)\n"
     ]
    }
   ],
   "source": [
    "X=africa_gov[['corruption_control_estimate','government _effectiveness_est', 'stability_est']]\n",
    "y=africa_gov['conflict_fatalities'].values.reshape(-1,1)\n",
    "print(X.shape, y.shape)"
   ]
  },
  {
   "cell_type": "code",
   "execution_count": 33,
   "metadata": {},
   "outputs": [
    {
     "data": {
      "text/plain": [
       "LinearRegression(copy_X=True, fit_intercept=True, n_jobs=None, normalize=False)"
      ]
     },
     "execution_count": 33,
     "metadata": {},
     "output_type": "execute_result"
    }
   ],
   "source": [
    "from sklearn.linear_model import LinearRegression\n",
    "model = LinearRegression()\n",
    "model.fit(X, y)"
   ]
  },
  {
   "cell_type": "code",
   "execution_count": 34,
   "metadata": {},
   "outputs": [
    {
     "data": {
      "text/html": [
       "<div>\n",
       "<style scoped>\n",
       "    .dataframe tbody tr th:only-of-type {\n",
       "        vertical-align: middle;\n",
       "    }\n",
       "\n",
       "    .dataframe tbody tr th {\n",
       "        vertical-align: top;\n",
       "    }\n",
       "\n",
       "    .dataframe thead th {\n",
       "        text-align: right;\n",
       "    }\n",
       "</style>\n",
       "<table border=\"1\" class=\"dataframe\">\n",
       "  <thead>\n",
       "    <tr style=\"text-align: right;\">\n",
       "      <th></th>\n",
       "      <th>corruption_control_estimate</th>\n",
       "      <th>government _effectiveness_est</th>\n",
       "      <th>stability_est</th>\n",
       "    </tr>\n",
       "  </thead>\n",
       "  <tbody>\n",
       "    <tr>\n",
       "      <td>6</td>\n",
       "      <td>0.77</td>\n",
       "      <td>0.32</td>\n",
       "      <td>0.75</td>\n",
       "    </tr>\n",
       "    <tr>\n",
       "      <td>34</td>\n",
       "      <td>-0.78</td>\n",
       "      <td>-0.87</td>\n",
       "      <td>-0.78</td>\n",
       "    </tr>\n",
       "    <tr>\n",
       "      <td>4</td>\n",
       "      <td>-0.11</td>\n",
       "      <td>-0.58</td>\n",
       "      <td>-1.04</td>\n",
       "    </tr>\n",
       "    <tr>\n",
       "      <td>37</td>\n",
       "      <td>-1.04</td>\n",
       "      <td>-1.02</td>\n",
       "      <td>-2.19</td>\n",
       "    </tr>\n",
       "    <tr>\n",
       "      <td>24</td>\n",
       "      <td>-0.85</td>\n",
       "      <td>-0.41</td>\n",
       "      <td>-1.16</td>\n",
       "    </tr>\n",
       "  </tbody>\n",
       "</table>\n",
       "</div>"
      ],
      "text/plain": [
       "    corruption_control_estimate  government _effectiveness_est  stability_est\n",
       "6                          0.77                           0.32           0.75\n",
       "34                        -0.78                          -0.87          -0.78\n",
       "4                         -0.11                          -0.58          -1.04\n",
       "37                        -1.04                          -1.02          -2.19\n",
       "24                        -0.85                          -0.41          -1.16"
      ]
     },
     "execution_count": 34,
     "metadata": {},
     "output_type": "execute_result"
    }
   ],
   "source": [
    "from sklearn.model_selection import train_test_split\n",
    "\n",
    "\n",
    "X_train, X_test, y_train, y_test = train_test_split(X, y, random_state=42)\n",
    "\n",
    "X_train.head()"
   ]
  },
  {
   "cell_type": "code",
   "execution_count": null,
   "metadata": {},
   "outputs": [],
   "source": []
  },
  {
   "cell_type": "code",
   "execution_count": 35,
   "metadata": {},
   "outputs": [],
   "source": [
    "from sklearn.preprocessing import StandardScaler\n",
    "X_scaler = StandardScaler().fit(X_train)\n",
    "y_scaler = StandardScaler().fit(y_train)"
   ]
  },
  {
   "cell_type": "code",
   "execution_count": 36,
   "metadata": {},
   "outputs": [
    {
     "name": "stdout",
     "output_type": "stream",
     "text": [
      "[[ 2.22811587  1.85386988  1.83297696]\n",
      " [-0.19000988 -0.16343613 -0.15563641]\n",
      " [ 0.85524447  0.32817626 -0.4935707 ]\n",
      " [-0.59563097 -0.41771839 -1.98828009]\n",
      " [-0.29921556  0.61636283 -0.64954038]\n",
      " [ 0.99565178  1.88777418  0.49423724]\n",
      " [ 0.68363555  0.95540586  0.42924988]\n",
      " [-0.59563097  0.27731981 -0.03865915]\n",
      " [-1.03245369 -1.62132113  0.06532063]\n",
      " [-1.17286099 -1.28227811 -1.06545951]\n",
      " [ 0.68363555  0.19255905  0.45524482]\n",
      " [-0.06520339 -0.38381409 -1.80631547]\n",
      " [ 0.12200634  0.00608539 -0.77951511]\n",
      " [ 0.87084529 -0.14648397  0.57222208]\n",
      " [-1.31326829 -1.31618241 -1.89729778]\n",
      " [ 0.02840148  0.56550638 -0.16863388]\n",
      " [ 0.32481689  0.02303754  0.130308  ]\n",
      " [-1.39127235 -1.82474695 -2.31321692]\n",
      " [-0.23681231  0.07389399 -0.0126642 ]\n",
      " [ 1.93170045  1.66739621  1.01413616]\n",
      " [-0.12760664  0.07389399  0.42924988]\n",
      " [-1.20406261 -1.43484747 -1.53336854]\n",
      " [-0.75163909 -0.46857485  0.44224735]\n",
      " [-0.59563097 -0.33295764 -0.28561114]\n",
      " [ 0.43402257  0.34512841  0.68919934]\n",
      " [ 1.307668    0.22646335  1.54703255]\n",
      " [ 1.55728098  1.4978747   1.70300223]\n",
      " [ 0.24681283  0.34512841 -0.3505985 ]\n",
      " [ 0.94884934  1.12492737 -0.31160608]\n",
      " [-0.25241313 -1.46875177  0.59821702]\n",
      " [-1.36007073 -1.2144695  -0.0126642 ]\n",
      " [-0.29921556 -0.06172322  0.53322966]\n",
      " [-0.9076472  -0.72285712 -0.0646541 ]\n",
      " [ 0.85524447  0.95540586  0.8971589 ]\n",
      " [-0.7672399  -0.04477107 -0.93548478]\n",
      " [ 2.11891019  2.1590086   1.76798959]\n",
      " [-1.40687316 -0.87542648  0.79317912]\n",
      " [-0.53322773 -0.63809636  0.18229789]\n",
      " [-1.09485693 -0.75676142  0.28627767]]\n"
     ]
    }
   ],
   "source": [
    "X_train_scaled = X_scaler.transform(X_train)\n",
    "X_test_scaled = X_scaler.transform(X_test)\n",
    "y_train_scaled = y_scaler.transform(y_train)\n",
    "y_test_scaled = y_scaler.transform(y_test)\n",
    "\n",
    "print(X_train_scaled)"
   ]
  },
  {
   "cell_type": "code",
   "execution_count": 37,
   "metadata": {},
   "outputs": [
    {
     "data": {
      "text/plain": [
       "LinearRegression(copy_X=True, fit_intercept=True, n_jobs=None, normalize=False)"
      ]
     },
     "execution_count": 37,
     "metadata": {},
     "output_type": "execute_result"
    }
   ],
   "source": [
    "from sklearn.linear_model import LinearRegression\n",
    "model = LinearRegression()\n",
    "model.fit(X_train_scaled, y_train_scaled)\n"
   ]
  },
  {
   "cell_type": "code",
   "execution_count": 38,
   "metadata": {},
   "outputs": [
    {
     "data": {
      "text/plain": [
       "array([2.22811587, 1.85386988, 1.83297696])"
      ]
     },
     "execution_count": 38,
     "metadata": {},
     "output_type": "execute_result"
    }
   ],
   "source": [
    "X_train_scaled[0]"
   ]
  },
  {
   "cell_type": "code",
   "execution_count": 39,
   "metadata": {},
   "outputs": [
    {
     "data": {
      "text/plain": [
       "<matplotlib.collections.PathCollection at 0x1a572b79348>"
      ]
     },
     "execution_count": 39,
     "metadata": {},
     "output_type": "execute_result"
    },
    {
     "data": {
      "image/png": "[encoded data removed]",
      "text/plain": [
       "<Figure size 864x432 with 2 Axes>"
      ]
     },
     "metadata": {
      "needs_background": "light"
     },
     "output_type": "display_data"
    }
   ],
   "source": [
    "fig1 = plt.figure(figsize=(12, 6))\n",
    "axes1 = fig1.add_subplot(1, 2, 1)\n",
    "axes2 = fig1.add_subplot(1, 2, 2)\n",
    "\n",
    "axes1.set_title(\"Original Data\")\n",
    "axes2.set_title(\"Scaled Data\")\n",
    "\n",
    "maxx = X_train['corruption_control_estimate'].max()\n",
    "maxy = y_train.max()\n",
    "axes1.set_xlim(-maxx + 1, maxx + 1)\n",
    "axes1.set_ylim(-maxy + 1, maxy + 1)\n",
    "\n",
    "axes2.set_xlim(-2, 2)\n",
    "axes2.set_ylim(-2, 2)\n",
    "\n",
    "def set_axes(ax):\n",
    "    ax.spines['left'].set_position('center')\n",
    "    ax.spines['right'].set_color('none')\n",
    "    ax.spines['bottom'].set_position('center')\n",
    "    ax.spines['top'].set_color('none')\n",
    "    ax.xaxis.set_ticks_position('bottom')\n",
    "    ax.yaxis.set_ticks_position('left')\n",
    "    \n",
    "set_axes(axes1)\n",
    "set_axes(axes2)\n",
    "\n",
    "axes1.scatter(X_train['corruption_control_estimate'], y_train)\n",
    "axes2.scatter(X_train_scaled[:,0], y_train_scaled[:])"
   ]
  },
  {
   "cell_type": "code",
   "execution_count": 40,
   "metadata": {},
   "outputs": [
    {
     "name": "stdout",
     "output_type": "stream",
     "text": [
      "                                 OLS Regression Results                                \n",
      "=======================================================================================\n",
      "Dep. Variable:                      y   R-squared (uncentered):                   0.507\n",
      "Model:                            OLS   Adj. R-squared (uncentered):              0.477\n",
      "Method:                 Least Squares   F-statistic:                              16.82\n",
      "Date:                Tue, 01 Sep 2020   Prob (F-statistic):                    1.20e-07\n",
      "Time:                        19:44:11   Log-Likelihood:                         -419.30\n",
      "No. Observations:                  52   AIC:                                      844.6\n",
      "Df Residuals:                      49   BIC:                                      850.5\n",
      "Df Model:                           3                                                  \n",
      "Covariance Type:            nonrobust                                                  \n",
      "=================================================================================================\n",
      "                                    coef    std err          t      P>|t|      [0.025      0.975]\n",
      "-------------------------------------------------------------------------------------------------\n",
      "corruption_control_estimate     229.7028    384.458      0.597      0.553    -542.895    1002.301\n",
      "government _effectiveness_est   142.6356    330.795      0.431      0.668    -522.122     807.393\n",
      "stability_est                 -1011.5616    185.847     -5.443      0.000   -1385.036    -638.088\n",
      "==============================================================================\n",
      "Omnibus:                       70.426   Durbin-Watson:                   2.051\n",
      "Prob(Omnibus):                  0.000   Jarque-Bera (JB):              773.944\n",
      "Skew:                           3.524   Prob(JB):                    8.71e-169\n",
      "Kurtosis:                      20.536   Cond. No.                         6.96\n",
      "==============================================================================\n",
      "\n",
      "Warnings:\n",
      "[1] Standard Errors assume that the covariance matrix of the errors is correctly specified.\n"
     ]
    }
   ],
   "source": [
    "summodel = sm.OLS(y, X)\n",
    "results = summodel.fit()\n",
    "print(results.summary())"
   ]
  },
  {
   "cell_type": "code",
   "execution_count": 17,
   "metadata": {},
   "outputs": [
    {
     "name": "stdout",
     "output_type": "stream",
     "text": [
      "MSE: 0.22252203951978472, R2: 0.02631896383038368\n"
     ]
    }
   ],
   "source": [
    "from sklearn.metrics import mean_squared_error\n",
    "\n",
    "predictions = model.predict(X_test_scaled)\n",
    "MSE = mean_squared_error(y_test_scaled, predictions)\n",
    "r2 = model.score(X_test_scaled, y_test_scaled)\n",
    "\n",
    "print(f\"MSE: {MSE}, R2: {r2}\")"
   ]
  },
  {
   "cell_type": "code",
   "execution_count": 18,
   "metadata": {},
   "outputs": [
    {
     "data": {
      "text/plain": [
       "Index(['country_name', 'country_code', 'year', 'conflict_frequency_code',\n",
       "       'conflict_deaths_code', 'population_density',\n",
       "       'population_growth_annual_per', 'total_population',\n",
       "       'refugee_pop_origin', 'rural_population', 'rural_population_per',\n",
       "       'rural_population_growth', 'urban_population', 'urban_population_per',\n",
       "       'urban_population_growth', 'corruption_control_estimate',\n",
       "       'corruption_control_percentile', 'government _effectiveness_est',\n",
       "       'government_effectiveness_percentile', 'stability_est',\n",
       "       'stability_percentile', 'regulatory_est', 'regulatory_percentile',\n",
       "       'ruleoflaw_est', 'ruleoflaw_percentile', 'accountability_est',\n",
       "       'accountability_percentile ', 'ethnic_score', 'gdp_growth_per',\n",
       "       'gdp_percap_per', 'mortality_rate', 'gdp_total', 'gdp_percap',\n",
       "       'gni_total', 'fdi_inflows_gdp', 'fdi_inflows_total',\n",
       "       'conflict_fatalities', 'conflict_events'],\n",
       "      dtype='object')"
      ]
     },
     "execution_count": 18,
     "metadata": {},
     "output_type": "execute_result"
    }
   ],
   "source": [
    "africa_data.columns"
   ]
  },
  {
   "cell_type": "code",
   "execution_count": 19,
   "metadata": {},
   "outputs": [
    {
     "data": {
      "text/html": [
       "<div>\n",
       "<style scoped>\n",
       "    .dataframe tbody tr th:only-of-type {\n",
       "        vertical-align: middle;\n",
       "    }\n",
       "\n",
       "    .dataframe tbody tr th {\n",
       "        vertical-align: top;\n",
       "    }\n",
       "\n",
       "    .dataframe thead th {\n",
       "        text-align: right;\n",
       "    }\n",
       "</style>\n",
       "<table border=\"1\" class=\"dataframe\">\n",
       "  <thead>\n",
       "    <tr style=\"text-align: right;\">\n",
       "      <th></th>\n",
       "      <th>stability_est</th>\n",
       "      <th>regulatory_est</th>\n",
       "      <th>ruleoflaw_est</th>\n",
       "      <th>accountability_est</th>\n",
       "      <th>conflict_fatalities</th>\n",
       "    </tr>\n",
       "  </thead>\n",
       "  <tbody>\n",
       "    <tr>\n",
       "      <td>0</td>\n",
       "      <td>-0.79</td>\n",
       "      <td>-1.26</td>\n",
       "      <td>-0.78</td>\n",
       "      <td>-0.98</td>\n",
       "      <td>66</td>\n",
       "    </tr>\n",
       "    <tr>\n",
       "      <td>1</td>\n",
       "      <td>-0.32</td>\n",
       "      <td>-1.00</td>\n",
       "      <td>-1.05</td>\n",
       "      <td>-0.92</td>\n",
       "      <td>41</td>\n",
       "    </tr>\n",
       "    <tr>\n",
       "      <td>2</td>\n",
       "      <td>-0.13</td>\n",
       "      <td>-0.34</td>\n",
       "      <td>-0.68</td>\n",
       "      <td>0.27</td>\n",
       "      <td>30</td>\n",
       "    </tr>\n",
       "    <tr>\n",
       "      <td>3</td>\n",
       "      <td>0.98</td>\n",
       "      <td>0.45</td>\n",
       "      <td>0.47</td>\n",
       "      <td>0.47</td>\n",
       "      <td>1</td>\n",
       "    </tr>\n",
       "    <tr>\n",
       "      <td>4</td>\n",
       "      <td>-1.04</td>\n",
       "      <td>-0.39</td>\n",
       "      <td>-0.45</td>\n",
       "      <td>-0.04</td>\n",
       "      <td>303</td>\n",
       "    </tr>\n",
       "    <tr>\n",
       "      <td>5</td>\n",
       "      <td>-1.60</td>\n",
       "      <td>-0.98</td>\n",
       "      <td>-1.50</td>\n",
       "      <td>-1.65</td>\n",
       "      <td>327</td>\n",
       "    </tr>\n",
       "    <tr>\n",
       "      <td>6</td>\n",
       "      <td>0.75</td>\n",
       "      <td>-0.24</td>\n",
       "      <td>0.45</td>\n",
       "      <td>1.00</td>\n",
       "      <td>0</td>\n",
       "    </tr>\n",
       "    <tr>\n",
       "      <td>7</td>\n",
       "      <td>-1.38</td>\n",
       "      <td>-0.80</td>\n",
       "      <td>-1.08</td>\n",
       "      <td>-1.10</td>\n",
       "      <td>1513</td>\n",
       "    </tr>\n",
       "    <tr>\n",
       "      <td>8</td>\n",
       "      <td>-2.28</td>\n",
       "      <td>-1.37</td>\n",
       "      <td>-1.69</td>\n",
       "      <td>-1.19</td>\n",
       "      <td>1171</td>\n",
       "    </tr>\n",
       "    <tr>\n",
       "      <td>9</td>\n",
       "      <td>-1.48</td>\n",
       "      <td>-1.11</td>\n",
       "      <td>-1.31</td>\n",
       "      <td>-1.45</td>\n",
       "      <td>259</td>\n",
       "    </tr>\n",
       "    <tr>\n",
       "      <td>10</td>\n",
       "      <td>-0.20</td>\n",
       "      <td>-1.12</td>\n",
       "      <td>-1.08</td>\n",
       "      <td>-0.44</td>\n",
       "      <td>0</td>\n",
       "    </tr>\n",
       "    <tr>\n",
       "      <td>11</td>\n",
       "      <td>-2.12</td>\n",
       "      <td>-1.47</td>\n",
       "      <td>-1.78</td>\n",
       "      <td>-1.51</td>\n",
       "      <td>3095</td>\n",
       "    </tr>\n",
       "    <tr>\n",
       "      <td>12</td>\n",
       "      <td>-0.13</td>\n",
       "      <td>-0.71</td>\n",
       "      <td>-0.92</td>\n",
       "      <td>-1.35</td>\n",
       "      <td>0</td>\n",
       "    </tr>\n",
       "    <tr>\n",
       "      <td>13</td>\n",
       "      <td>-1.16</td>\n",
       "      <td>-0.87</td>\n",
       "      <td>-0.41</td>\n",
       "      <td>-1.28</td>\n",
       "      <td>1112</td>\n",
       "    </tr>\n",
       "    <tr>\n",
       "      <td>14</td>\n",
       "      <td>-0.05</td>\n",
       "      <td>-1.56</td>\n",
       "      <td>-1.42</td>\n",
       "      <td>-1.86</td>\n",
       "      <td>4</td>\n",
       "    </tr>\n",
       "    <tr>\n",
       "      <td>15</td>\n",
       "      <td>-0.61</td>\n",
       "      <td>-2.23</td>\n",
       "      <td>-1.59</td>\n",
       "      <td>-2.18</td>\n",
       "      <td>1</td>\n",
       "    </tr>\n",
       "    <tr>\n",
       "      <td>16</td>\n",
       "      <td>-0.31</td>\n",
       "      <td>-0.60</td>\n",
       "      <td>-0.25</td>\n",
       "      <td>-1.34</td>\n",
       "      <td>0</td>\n",
       "    </tr>\n",
       "    <tr>\n",
       "      <td>17</td>\n",
       "      <td>-1.34</td>\n",
       "      <td>-0.97</td>\n",
       "      <td>-0.43</td>\n",
       "      <td>-1.16</td>\n",
       "      <td>1553</td>\n",
       "    </tr>\n",
       "    <tr>\n",
       "      <td>18</td>\n",
       "      <td>-0.25</td>\n",
       "      <td>-0.88</td>\n",
       "      <td>-0.71</td>\n",
       "      <td>-0.95</td>\n",
       "      <td>0</td>\n",
       "    </tr>\n",
       "    <tr>\n",
       "      <td>19</td>\n",
       "      <td>-0.03</td>\n",
       "      <td>-0.63</td>\n",
       "      <td>-0.43</td>\n",
       "      <td>-0.20</td>\n",
       "      <td>3</td>\n",
       "    </tr>\n",
       "    <tr>\n",
       "      <td>20</td>\n",
       "      <td>0.03</td>\n",
       "      <td>-0.08</td>\n",
       "      <td>0.07</td>\n",
       "      <td>0.58</td>\n",
       "      <td>25</td>\n",
       "    </tr>\n",
       "    <tr>\n",
       "      <td>21</td>\n",
       "      <td>-0.88</td>\n",
       "      <td>-0.78</td>\n",
       "      <td>-1.21</td>\n",
       "      <td>-0.75</td>\n",
       "      <td>39</td>\n",
       "    </tr>\n",
       "    <tr>\n",
       "      <td>22</td>\n",
       "      <td>-0.67</td>\n",
       "      <td>-1.20</td>\n",
       "      <td>-1.23</td>\n",
       "      <td>-0.67</td>\n",
       "      <td>0</td>\n",
       "    </tr>\n",
       "    <tr>\n",
       "      <td>23</td>\n",
       "      <td>-0.93</td>\n",
       "      <td>-0.19</td>\n",
       "      <td>-0.58</td>\n",
       "      <td>-0.22</td>\n",
       "      <td>16</td>\n",
       "    </tr>\n",
       "    <tr>\n",
       "      <td>24</td>\n",
       "      <td>-1.16</td>\n",
       "      <td>-0.23</td>\n",
       "      <td>-0.41</td>\n",
       "      <td>-0.36</td>\n",
       "      <td>407</td>\n",
       "    </tr>\n",
       "    <tr>\n",
       "      <td>25</td>\n",
       "      <td>-0.22</td>\n",
       "      <td>-0.50</td>\n",
       "      <td>-0.34</td>\n",
       "      <td>0.08</td>\n",
       "      <td>0</td>\n",
       "    </tr>\n",
       "    <tr>\n",
       "      <td>26</td>\n",
       "      <td>-0.19</td>\n",
       "      <td>-0.97</td>\n",
       "      <td>-0.99</td>\n",
       "      <td>-0.04</td>\n",
       "      <td>2</td>\n",
       "    </tr>\n",
       "    <tr>\n",
       "      <td>27</td>\n",
       "      <td>-2.44</td>\n",
       "      <td>-2.28</td>\n",
       "      <td>-1.79</td>\n",
       "      <td>-1.52</td>\n",
       "      <td>1188</td>\n",
       "    </tr>\n",
       "    <tr>\n",
       "      <td>28</td>\n",
       "      <td>-0.52</td>\n",
       "      <td>-0.73</td>\n",
       "      <td>-0.81</td>\n",
       "      <td>-0.31</td>\n",
       "      <td>142</td>\n",
       "    </tr>\n",
       "    <tr>\n",
       "      <td>29</td>\n",
       "      <td>-0.33</td>\n",
       "      <td>-0.67</td>\n",
       "      <td>-0.38</td>\n",
       "      <td>-0.06</td>\n",
       "      <td>15</td>\n",
       "    </tr>\n",
       "    <tr>\n",
       "      <td>30</td>\n",
       "      <td>-2.05</td>\n",
       "      <td>-0.55</td>\n",
       "      <td>-0.80</td>\n",
       "      <td>-0.31</td>\n",
       "      <td>1747</td>\n",
       "    </tr>\n",
       "    <tr>\n",
       "      <td>31</td>\n",
       "      <td>-0.67</td>\n",
       "      <td>-0.81</td>\n",
       "      <td>-0.69</td>\n",
       "      <td>-0.85</td>\n",
       "      <td>3</td>\n",
       "    </tr>\n",
       "    <tr>\n",
       "      <td>32</td>\n",
       "      <td>0.87</td>\n",
       "      <td>1.03</td>\n",
       "      <td>0.78</td>\n",
       "      <td>0.76</td>\n",
       "      <td>0</td>\n",
       "    </tr>\n",
       "    <tr>\n",
       "      <td>33</td>\n",
       "      <td>-0.33</td>\n",
       "      <td>-0.24</td>\n",
       "      <td>-0.14</td>\n",
       "      <td>-0.66</td>\n",
       "      <td>7</td>\n",
       "    </tr>\n",
       "    <tr>\n",
       "      <td>34</td>\n",
       "      <td>-0.78</td>\n",
       "      <td>-0.73</td>\n",
       "      <td>-1.04</td>\n",
       "      <td>-0.47</td>\n",
       "      <td>223</td>\n",
       "    </tr>\n",
       "    <tr>\n",
       "      <td>35</td>\n",
       "      <td>0.65</td>\n",
       "      <td>-0.05</td>\n",
       "      <td>0.24</td>\n",
       "      <td>0.49</td>\n",
       "      <td>1</td>\n",
       "    </tr>\n",
       "    <tr>\n",
       "      <td>36</td>\n",
       "      <td>-1.26</td>\n",
       "      <td>-0.64</td>\n",
       "      <td>-0.58</td>\n",
       "      <td>-0.58</td>\n",
       "      <td>506</td>\n",
       "    </tr>\n",
       "    <tr>\n",
       "      <td>37</td>\n",
       "      <td>-2.19</td>\n",
       "      <td>-0.88</td>\n",
       "      <td>-0.88</td>\n",
       "      <td>-0.41</td>\n",
       "      <td>6243</td>\n",
       "    </tr>\n",
       "    <tr>\n",
       "      <td>38</td>\n",
       "      <td>-0.44</td>\n",
       "      <td>-1.36</td>\n",
       "      <td>-1.10</td>\n",
       "      <td>-1.18</td>\n",
       "      <td>28</td>\n",
       "    </tr>\n",
       "    <tr>\n",
       "      <td>39</td>\n",
       "      <td>0.12</td>\n",
       "      <td>0.08</td>\n",
       "      <td>0.12</td>\n",
       "      <td>-1.13</td>\n",
       "      <td>38</td>\n",
       "    </tr>\n",
       "    <tr>\n",
       "      <td>40</td>\n",
       "      <td>0.53</td>\n",
       "      <td>-0.85</td>\n",
       "      <td>-0.69</td>\n",
       "      <td>0.16</td>\n",
       "      <td>0</td>\n",
       "    </tr>\n",
       "    <tr>\n",
       "      <td>41</td>\n",
       "      <td>-0.09</td>\n",
       "      <td>-0.11</td>\n",
       "      <td>-0.21</td>\n",
       "      <td>0.24</td>\n",
       "      <td>29</td>\n",
       "    </tr>\n",
       "    <tr>\n",
       "      <td>42</td>\n",
       "      <td>0.70</td>\n",
       "      <td>-0.15</td>\n",
       "      <td>0.20</td>\n",
       "      <td>0.21</td>\n",
       "      <td>0</td>\n",
       "    </tr>\n",
       "    <tr>\n",
       "      <td>43</td>\n",
       "      <td>-0.03</td>\n",
       "      <td>-0.91</td>\n",
       "      <td>-0.77</td>\n",
       "      <td>-0.18</td>\n",
       "      <td>9</td>\n",
       "    </tr>\n",
       "    <tr>\n",
       "      <td>44</td>\n",
       "      <td>-0.28</td>\n",
       "      <td>0.17</td>\n",
       "      <td>-0.10</td>\n",
       "      <td>0.66</td>\n",
       "      <td>73</td>\n",
       "    </tr>\n",
       "    <tr>\n",
       "      <td>45</td>\n",
       "      <td>-1.84</td>\n",
       "      <td>-1.63</td>\n",
       "      <td>-1.12</td>\n",
       "      <td>-1.84</td>\n",
       "      <td>1054</td>\n",
       "    </tr>\n",
       "    <tr>\n",
       "      <td>46</td>\n",
       "      <td>-0.56</td>\n",
       "      <td>-0.61</td>\n",
       "      <td>-0.55</td>\n",
       "      <td>-0.36</td>\n",
       "      <td>35</td>\n",
       "    </tr>\n",
       "    <tr>\n",
       "      <td>47</td>\n",
       "      <td>-0.98</td>\n",
       "      <td>-0.65</td>\n",
       "      <td>-0.59</td>\n",
       "      <td>-0.74</td>\n",
       "      <td>5</td>\n",
       "    </tr>\n",
       "    <tr>\n",
       "      <td>48</td>\n",
       "      <td>-0.90</td>\n",
       "      <td>-0.41</td>\n",
       "      <td>0.04</td>\n",
       "      <td>0.21</td>\n",
       "      <td>34</td>\n",
       "    </tr>\n",
       "    <tr>\n",
       "      <td>49</td>\n",
       "      <td>-0.69</td>\n",
       "      <td>-0.25</td>\n",
       "      <td>-0.29</td>\n",
       "      <td>-0.67</td>\n",
       "      <td>146</td>\n",
       "    </tr>\n",
       "    <tr>\n",
       "      <td>50</td>\n",
       "      <td>0.14</td>\n",
       "      <td>-0.44</td>\n",
       "      <td>-0.34</td>\n",
       "      <td>-0.32</td>\n",
       "      <td>16</td>\n",
       "    </tr>\n",
       "    <tr>\n",
       "      <td>51</td>\n",
       "      <td>-0.71</td>\n",
       "      <td>-1.58</td>\n",
       "      <td>-1.27</td>\n",
       "      <td>-1.13</td>\n",
       "      <td>344</td>\n",
       "    </tr>\n",
       "  </tbody>\n",
       "</table>\n",
       "</div>"
      ],
      "text/plain": [
       "    stability_est  regulatory_est  ruleoflaw_est  accountability_est  \\\n",
       "0           -0.79           -1.26          -0.78               -0.98   \n",
       "1           -0.32           -1.00          -1.05               -0.92   \n",
       "2           -0.13           -0.34          -0.68                0.27   \n",
       "3            0.98            0.45           0.47                0.47   \n",
       "4           -1.04           -0.39          -0.45               -0.04   \n",
       "5           -1.60           -0.98          -1.50               -1.65   \n",
       "6            0.75           -0.24           0.45                1.00   \n",
       "7           -1.38           -0.80          -1.08               -1.10   \n",
       "8           -2.28           -1.37          -1.69               -1.19   \n",
       "9           -1.48           -1.11          -1.31               -1.45   \n",
       "10          -0.20           -1.12          -1.08               -0.44   \n",
       "11          -2.12           -1.47          -1.78               -1.51   \n",
       "12          -0.13           -0.71          -0.92               -1.35   \n",
       "13          -1.16           -0.87          -0.41               -1.28   \n",
       "14          -0.05           -1.56          -1.42               -1.86   \n",
       "15          -0.61           -2.23          -1.59               -2.18   \n",
       "16          -0.31           -0.60          -0.25               -1.34   \n",
       "17          -1.34           -0.97          -0.43               -1.16   \n",
       "18          -0.25           -0.88          -0.71               -0.95   \n",
       "19          -0.03           -0.63          -0.43               -0.20   \n",
       "20           0.03           -0.08           0.07                0.58   \n",
       "21          -0.88           -0.78          -1.21               -0.75   \n",
       "22          -0.67           -1.20          -1.23               -0.67   \n",
       "23          -0.93           -0.19          -0.58               -0.22   \n",
       "24          -1.16           -0.23          -0.41               -0.36   \n",
       "25          -0.22           -0.50          -0.34                0.08   \n",
       "26          -0.19           -0.97          -0.99               -0.04   \n",
       "27          -2.44           -2.28          -1.79               -1.52   \n",
       "28          -0.52           -0.73          -0.81               -0.31   \n",
       "29          -0.33           -0.67          -0.38               -0.06   \n",
       "30          -2.05           -0.55          -0.80               -0.31   \n",
       "31          -0.67           -0.81          -0.69               -0.85   \n",
       "32           0.87            1.03           0.78                0.76   \n",
       "33          -0.33           -0.24          -0.14               -0.66   \n",
       "34          -0.78           -0.73          -1.04               -0.47   \n",
       "35           0.65           -0.05           0.24                0.49   \n",
       "36          -1.26           -0.64          -0.58               -0.58   \n",
       "37          -2.19           -0.88          -0.88               -0.41   \n",
       "38          -0.44           -1.36          -1.10               -1.18   \n",
       "39           0.12            0.08           0.12               -1.13   \n",
       "40           0.53           -0.85          -0.69                0.16   \n",
       "41          -0.09           -0.11          -0.21                0.24   \n",
       "42           0.70           -0.15           0.20                0.21   \n",
       "43          -0.03           -0.91          -0.77               -0.18   \n",
       "44          -0.28            0.17          -0.10                0.66   \n",
       "45          -1.84           -1.63          -1.12               -1.84   \n",
       "46          -0.56           -0.61          -0.55               -0.36   \n",
       "47          -0.98           -0.65          -0.59               -0.74   \n",
       "48          -0.90           -0.41           0.04                0.21   \n",
       "49          -0.69           -0.25          -0.29               -0.67   \n",
       "50           0.14           -0.44          -0.34               -0.32   \n",
       "51          -0.71           -1.58          -1.27               -1.13   \n",
       "\n",
       "    conflict_fatalities  \n",
       "0                    66  \n",
       "1                    41  \n",
       "2                    30  \n",
       "3                     1  \n",
       "4                   303  \n",
       "5                   327  \n",
       "6                     0  \n",
       "7                  1513  \n",
       "8                  1171  \n",
       "9                   259  \n",
       "10                    0  \n",
       "11                 3095  \n",
       "12                    0  \n",
       "13                 1112  \n",
       "14                    4  \n",
       "15                    1  \n",
       "16                    0  \n",
       "17                 1553  \n",
       "18                    0  \n",
       "19                    3  \n",
       "20                   25  \n",
       "21                   39  \n",
       "22                    0  \n",
       "23                   16  \n",
       "24                  407  \n",
       "25                    0  \n",
       "26                    2  \n",
       "27                 1188  \n",
       "28                  142  \n",
       "29                   15  \n",
       "30                 1747  \n",
       "31                    3  \n",
       "32                    0  \n",
       "33                    7  \n",
       "34                  223  \n",
       "35                    1  \n",
       "36                  506  \n",
       "37                 6243  \n",
       "38                   28  \n",
       "39                   38  \n",
       "40                    0  \n",
       "41                   29  \n",
       "42                    0  \n",
       "43                    9  \n",
       "44                   73  \n",
       "45                 1054  \n",
       "46                   35  \n",
       "47                    5  \n",
       "48                   34  \n",
       "49                  146  \n",
       "50                   16  \n",
       "51                  344  "
      ]
     },
     "execution_count": 19,
     "metadata": {},
     "output_type": "execute_result"
    }
   ],
   "source": [
    "africa_gov2=africa_data[[ 'stability_est', 'regulatory_est', 'ruleoflaw_est', 'accountability_est', 'conflict_fatalities']]\n",
    "africa_gov2\n"
   ]
  },
  {
   "cell_type": "code",
   "execution_count": 20,
   "metadata": {},
   "outputs": [
    {
     "name": "stdout",
     "output_type": "stream",
     "text": [
      "(52, 4) (52, 1)\n"
     ]
    }
   ],
   "source": [
    "X=africa_gov2[['stability_est', 'regulatory_est', 'ruleoflaw_est', 'accountability_est']]\n",
    "y=africa_gov2['conflict_fatalities'].values.reshape(-1,1)\n",
    "print(X.shape, y.shape)"
   ]
  },
  {
   "cell_type": "code",
   "execution_count": 21,
   "metadata": {},
   "outputs": [
    {
     "data": {
      "text/plain": [
       "LinearRegression(copy_X=True, fit_intercept=True, n_jobs=None, normalize=False)"
      ]
     },
     "execution_count": 21,
     "metadata": {},
     "output_type": "execute_result"
    }
   ],
   "source": [
    "from sklearn.linear_model import LinearRegression\n",
    "model = LinearRegression()\n",
    "model.fit(X, y)"
   ]
  },
  {
   "cell_type": "code",
   "execution_count": 22,
   "metadata": {},
   "outputs": [
    {
     "data": {
      "text/html": [
       "<div>\n",
       "<style scoped>\n",
       "    .dataframe tbody tr th:only-of-type {\n",
       "        vertical-align: middle;\n",
       "    }\n",
       "\n",
       "    .dataframe tbody tr th {\n",
       "        vertical-align: top;\n",
       "    }\n",
       "\n",
       "    .dataframe thead th {\n",
       "        text-align: right;\n",
       "    }\n",
       "</style>\n",
       "<table border=\"1\" class=\"dataframe\">\n",
       "  <thead>\n",
       "    <tr style=\"text-align: right;\">\n",
       "      <th></th>\n",
       "      <th>stability_est</th>\n",
       "      <th>regulatory_est</th>\n",
       "      <th>ruleoflaw_est</th>\n",
       "      <th>accountability_est</th>\n",
       "    </tr>\n",
       "  </thead>\n",
       "  <tbody>\n",
       "    <tr>\n",
       "      <td>6</td>\n",
       "      <td>0.75</td>\n",
       "      <td>-0.24</td>\n",
       "      <td>0.45</td>\n",
       "      <td>1.00</td>\n",
       "    </tr>\n",
       "    <tr>\n",
       "      <td>34</td>\n",
       "      <td>-0.78</td>\n",
       "      <td>-0.73</td>\n",
       "      <td>-1.04</td>\n",
       "      <td>-0.47</td>\n",
       "    </tr>\n",
       "    <tr>\n",
       "      <td>4</td>\n",
       "      <td>-1.04</td>\n",
       "      <td>-0.39</td>\n",
       "      <td>-0.45</td>\n",
       "      <td>-0.04</td>\n",
       "    </tr>\n",
       "    <tr>\n",
       "      <td>37</td>\n",
       "      <td>-2.19</td>\n",
       "      <td>-0.88</td>\n",
       "      <td>-0.88</td>\n",
       "      <td>-0.41</td>\n",
       "    </tr>\n",
       "    <tr>\n",
       "      <td>24</td>\n",
       "      <td>-1.16</td>\n",
       "      <td>-0.23</td>\n",
       "      <td>-0.41</td>\n",
       "      <td>-0.36</td>\n",
       "    </tr>\n",
       "  </tbody>\n",
       "</table>\n",
       "</div>"
      ],
      "text/plain": [
       "    stability_est  regulatory_est  ruleoflaw_est  accountability_est\n",
       "6            0.75           -0.24           0.45                1.00\n",
       "34          -0.78           -0.73          -1.04               -0.47\n",
       "4           -1.04           -0.39          -0.45               -0.04\n",
       "37          -2.19           -0.88          -0.88               -0.41\n",
       "24          -1.16           -0.23          -0.41               -0.36"
      ]
     },
     "execution_count": 22,
     "metadata": {},
     "output_type": "execute_result"
    }
   ],
   "source": [
    "from sklearn.model_selection import train_test_split\n",
    "\n",
    "\n",
    "X_train, X_test, y_train, y_test = train_test_split(X, y, random_state=42)\n",
    "\n",
    "X_train.head()"
   ]
  },
  {
   "cell_type": "code",
   "execution_count": 23,
   "metadata": {},
   "outputs": [],
   "source": [
    "from sklearn.preprocessing import StandardScaler\n",
    "X_scaler = StandardScaler().fit(X_train)\n",
    "y_scaler = StandardScaler().fit(y_train)"
   ]
  },
  {
   "cell_type": "code",
   "execution_count": 24,
   "metadata": {},
   "outputs": [
    {
     "name": "stdout",
     "output_type": "stream",
     "text": [
      "[[ 1.83297696e+00  9.18788978e-01  2.05105855e+00  2.14628671e+00]\n",
      " [-1.55636407e-01  7.42455740e-02 -6.20696937e-01  1.48452369e-01]\n",
      " [-4.93570704e-01  6.60255283e-01  4.37246509e-01  7.32852891e-01]\n",
      " [-1.98828009e+00 -1.84288121e-01 -3.33797020e-01  2.29996628e-01]\n",
      " [-6.49540379e-01  9.36024558e-01  5.08971489e-01  2.97950177e-01]\n",
      " [ 4.94237241e-01  1.62544774e+00  1.06484008e+00  1.68420258e+00]\n",
      " [ 4.29249876e-01  9.18788978e-01  9.93115100e-01 -1.09771118e-01]\n",
      " [-3.86591503e-02  9.01553398e-01  7.24146427e-01 -1.23361828e-01]\n",
      " [ 6.53206333e-02 -2.51109138e+00 -1.60691540e+00 -2.17555901e+00]\n",
      " [-1.06545951e+00 -5.80706454e-01 -1.10484055e+00 -1.18343719e+00]\n",
      " [ 4.55244822e-01  2.98308110e-01  7.95871406e-01 -1.03393939e+00]\n",
      " [-1.80631547e+00  3.84486008e-01 -1.90347061e-01  3.65903726e-01]\n",
      " [-7.79515109e-01  2.29365791e-01  2.04140326e-01 -1.04543922e-03]\n",
      " [ 5.72222079e-01  4.70663906e-01  6.34490203e-01  8.95941409e-01]\n",
      " [-1.89729778e+00 -1.20118732e+00 -1.94760906e+00 -1.26498145e+00]\n",
      " [-1.68633880e-01 -8.39240149e-01 -1.54484571e-01 -5.44673832e-01]\n",
      " [ 1.30307998e-01  2.81072530e-01  2.57934061e-01  2.97950177e-01]\n",
      " [-2.31321692e+00 -2.59726928e+00 -1.96554030e+00 -1.27857216e+00]\n",
      " [-1.26642044e-02 -6.36390634e-02  6.89663264e-03 -3.67994605e-01]\n",
      " [ 1.01413616e+00  1.47032753e+00  1.45932747e+00 -7.48534480e-01]\n",
      " [ 4.29249876e-01  1.77659052e-01  5.62765223e-01  7.05671472e-01]\n",
      " [-1.53336854e+00 -1.47695660e+00 -7.64146896e-01 -1.71347488e+00]\n",
      " [ 4.42247349e-01 -3.91115077e-01 -6.38628182e-01 -4.63129573e-01]\n",
      " [-2.85611137e-01 -1.19323244e-02 -9.25528100e-01 -2.32087506e-01]\n",
      " [ 6.89199335e-01  7.46433181e-01  2.48278775e-02  1.15416490e+00]\n",
      " [ 1.54703255e+00 -1.32581382e-01  6.89663264e-03  1.00466709e+00]\n",
      " [ 1.70300223e+00  1.24626499e+00  1.67450240e+00  1.45316051e+00]\n",
      " [-3.50598501e-01  1.00496688e+00  2.04140326e-01  4.88220115e-01]\n",
      " [-3.11606082e-01  6.25784124e-01  1.31587751e+00  1.07262064e+00]\n",
      " [ 5.98217025e-01 -5.97942033e-01 -6.92421917e-01  1.89224498e-01]\n",
      " [-1.26642044e-02 -7.35826671e-01 -9.61390590e-01 -1.23361828e-01]\n",
      " [ 5.33229660e-01 -1.84288121e-01 -2.89658571e-02 -5.03901703e-01]\n",
      " [-6.46540963e-02 -1.39077870e+00 -1.03311557e+00 -7.48534480e-01]\n",
      " [ 8.97158903e-01  1.19455825e+00  1.36967124e+00  1.57547690e+00]\n",
      " [-9.35484785e-01 -4.64034837e-02 -6.92421917e-01 -7.07762350e-01]\n",
      " [ 1.76798959e+00  1.07390920e+00  1.60277742e+00  1.07262064e+00]\n",
      " [ 7.93179119e-01 -1.35630754e+00 -1.30208424e+00 -1.74065630e+00]\n",
      " [ 1.82297890e-01  7.42455740e-02 -2.08278306e-01  3.65903726e-01]\n",
      " [ 2.86277674e-01 -1.01159595e+00 -7.28284406e-01 -8.16488029e-01]]\n"
     ]
    }
   ],
   "source": [
    "X_train_scaled = X_scaler.transform(X_train)\n",
    "X_test_scaled = X_scaler.transform(X_test)\n",
    "y_train_scaled = y_scaler.transform(y_train)\n",
    "y_test_scaled = y_scaler.transform(y_test)\n",
    "\n",
    "print(X_train_scaled)"
   ]
  },
  {
   "cell_type": "code",
   "execution_count": 25,
   "metadata": {},
   "outputs": [
    {
     "data": {
      "text/plain": [
       "LinearRegression(copy_X=True, fit_intercept=True, n_jobs=None, normalize=False)"
      ]
     },
     "execution_count": 25,
     "metadata": {},
     "output_type": "execute_result"
    }
   ],
   "source": [
    "from sklearn.linear_model import LinearRegression\n",
    "model = LinearRegression()\n",
    "model.fit(X_train_scaled, y_train_scaled)"
   ]
  },
  {
   "cell_type": "code",
   "execution_count": 26,
   "metadata": {},
   "outputs": [
    {
     "data": {
      "text/plain": [
       "array([1.83297696, 0.91878898, 2.05105855, 2.14628671])"
      ]
     },
     "execution_count": 26,
     "metadata": {},
     "output_type": "execute_result"
    }
   ],
   "source": [
    "X_train_scaled[0]"
   ]
  },
  {
   "cell_type": "code",
   "execution_count": 27,
   "metadata": {},
   "outputs": [
    {
     "data": {
      "text/plain": [
       "<matplotlib.collections.PathCollection at 0x1a5724622c8>"
      ]
     },
     "execution_count": 27,
     "metadata": {},
     "output_type": "execute_result"
    },
    {
     "data": {
      "image/png": "[encoded data removed]",
      "text/plain": [
       "<Figure size 864x432 with 2 Axes>"
      ]
     },
     "metadata": {
      "needs_background": "light"
     },
     "output_type": "display_data"
    }
   ],
   "source": [
    "fig1 = plt.figure(figsize=(12, 6))\n",
    "axes1 = fig1.add_subplot(1, 2, 1)\n",
    "axes2 = fig1.add_subplot(1, 2, 2)\n",
    "\n",
    "axes1.set_title(\"Original Data\")\n",
    "axes2.set_title(\"Scaled Data\")\n",
    "\n",
    "maxx = X_train['stability_est'].max()\n",
    "maxy = y_train.max()\n",
    "axes1.set_xlim(-maxx + 1, maxx + 1)\n",
    "axes1.set_ylim(-maxy + 1, maxy + 1)\n",
    "\n",
    "axes2.set_xlim(-2, 2)\n",
    "axes2.set_ylim(-2, 2)\n",
    "\n",
    "def set_axes(ax):\n",
    "    ax.spines['left'].set_position('center')\n",
    "    ax.spines['right'].set_color('none')\n",
    "    ax.spines['bottom'].set_position('center')\n",
    "    ax.spines['top'].set_color('none')\n",
    "    ax.xaxis.set_ticks_position('bottom')\n",
    "    ax.yaxis.set_ticks_position('left')\n",
    "    \n",
    "set_axes(axes1)\n",
    "set_axes(axes2)\n",
    "\n",
    "axes1.scatter(X_train['stability_est'], y_train)\n",
    "axes2.scatter(X_train_scaled[:,0], y_train_scaled[:])"
   ]
  },
  {
   "cell_type": "code",
   "execution_count": 28,
   "metadata": {},
   "outputs": [
    {
     "name": "stdout",
     "output_type": "stream",
     "text": [
      "MSE: 0.2550233438521899, R2: -0.11589572981314912\n"
     ]
    }
   ],
   "source": [
    "from sklearn.metrics import mean_squared_error\n",
    "\n",
    "predictions = model.predict(X_test_scaled)\n",
    "MSE = mean_squared_error(y_test_scaled, predictions)\n",
    "r2 = model.score(X_test_scaled, y_test_scaled)\n",
    "\n",
    "print(f\"MSE: {MSE}, R2: {r2}\")"
   ]
  },
  {
   "cell_type": "code",
   "execution_count": 29,
   "metadata": {},
   "outputs": [
    {
     "name": "stdout",
     "output_type": "stream",
     "text": [
      "                                 OLS Regression Results                                \n",
      "=======================================================================================\n",
      "Dep. Variable:                      y   R-squared (uncentered):                   0.515\n",
      "Model:                            OLS   Adj. R-squared (uncentered):              0.475\n",
      "Method:                 Least Squares   F-statistic:                              12.74\n",
      "Date:                Tue, 01 Sep 2020   Prob (F-statistic):                    3.84e-07\n",
      "Time:                        19:39:34   Log-Likelihood:                         -418.90\n",
      "No. Observations:                  52   AIC:                                      845.8\n",
      "Df Residuals:                      48   BIC:                                      853.6\n",
      "Df Model:                           4                                                  \n",
      "Covariance Type:            nonrobust                                                  \n",
      "======================================================================================\n",
      "                         coef    std err          t      P>|t|      [0.025      0.975]\n",
      "--------------------------------------------------------------------------------------\n",
      "stability_est      -1014.7796    184.719     -5.494      0.000   -1386.182    -643.377\n",
      "regulatory_est      -247.7265    394.536     -0.628      0.533   -1040.995     545.542\n",
      "ruleoflaw_est        371.2086    442.035      0.840      0.405    -517.562    1259.979\n",
      "accountability_est   278.7476    238.112      1.171      0.248    -200.009     757.504\n",
      "==============================================================================\n",
      "Omnibus:                       66.607   Durbin-Watson:                   1.949\n",
      "Prob(Omnibus):                  0.000   Jarque-Bera (JB):              628.858\n",
      "Skew:                           3.324   Prob(JB):                    2.79e-137\n",
      "Kurtosis:                      18.686   Cond. No.                         8.96\n",
      "==============================================================================\n",
      "\n",
      "Warnings:\n",
      "[1] Standard Errors assume that the covariance matrix of the errors is correctly specified.\n"
     ]
    }
   ],
   "source": [
    "summodel = sm.OLS(y, X)\n",
    "results = summodel.fit()\n",
    "print(results.summary())"
   ]
  },
  {
   "cell_type": "code",
   "execution_count": null,
   "metadata": {},
   "outputs": [],
   "source": []
  }
 ],
 "metadata": {
  "kernelspec": {
   "display_name": "Python 3",
   "language": "python",
   "name": "python3"
  },
  "language_info": {
   "codemirror_mode": {
    "name": "ipython",
    "version": 3
   },
   "file_extension": ".py",
   "mimetype": "text/x-python",
   "name": "python",
   "nbconvert_exporter": "python",
   "pygments_lexer": "ipython3",
   "version": "3.7.6"
  }
 },
 "nbformat": 4,
 "nbformat_minor": 2
}
