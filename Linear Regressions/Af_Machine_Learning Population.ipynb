{
 "cells": [
  {
   "cell_type": "code",
   "execution_count": 1,
   "metadata": {},
   "outputs": [],
   "source": [
    "import pandas as pd\n",
    "from sqlalchemy import create_engine\n",
    "import pymysql\n",
    "import json\n",
    "import pandas as pd\n",
    "import numpy\n",
    "import matplotlib.pyplot as plt\n",
    "import statsmodels.api as sm\n",
    "from statsmodels.sandbox.regression.predstd import wls_prediction_std\n",
    "\n",
    "#from config import local_db_user, local_db_pwd, local_db_endpoint, local_db_port, local_db_name\n",
    "from config import remote_db_endpoint, remote_db_port, remote_db_user, remote_db_pwd, remote_db_name"
   ]
  },
  {
   "cell_type": "code",
   "execution_count": 2,
   "metadata": {},
   "outputs": [],
   "source": [
    "cloud_engine = create_engine(f\"postgresql://{remote_db_user}:{remote_db_pwd}@{remote_db_endpoint}:{remote_db_port}/{remote_db_name}\")"
   ]
  },
  {
   "cell_type": "code",
   "execution_count": 3,
   "metadata": {
    "scrolled": false
   },
   "outputs": [],
   "source": [
    "cloud_conn = cloud_engine.connect()"
   ]
  },
  {
   "cell_type": "code",
   "execution_count": 4,
   "metadata": {},
   "outputs": [],
   "source": [
    "africa_data = pd.read_sql(\"select * from ultimate where year=2018\", cloud_conn)"
   ]
  },
  {
   "cell_type": "code",
   "execution_count": 5,
   "metadata": {},
   "outputs": [
    {
     "data": {
      "text/plain": [
       "country_name                            object\n",
       "country_code                            object\n",
       "year                                     int64\n",
       "conflict_frequency_code                  int64\n",
       "conflict_deaths_code                   float64\n",
       "population_density                     float64\n",
       "population_growth_annual_per           float64\n",
       "total_population                       float64\n",
       "refugee_pop_origin                      object\n",
       "rural_population                       float64\n",
       "rural_population_per                   float64\n",
       "rural_population_growth                float64\n",
       "urban_population                       float64\n",
       "urban_population_per                   float64\n",
       "urban_population_growth                float64\n",
       "corruption_control_estimate            float64\n",
       "corruption_control_percentile          float64\n",
       "government _effectiveness_est          float64\n",
       "government_effectiveness_percentile    float64\n",
       "stability_est                          float64\n",
       "stability_percentile                   float64\n",
       "regulatory_est                         float64\n",
       "regulatory_percentile                  float64\n",
       "ruleoflaw_est                          float64\n",
       "ruleoflaw_percentile                   float64\n",
       "accountability_est                     float64\n",
       "accountability_percentile              float64\n",
       "ethnic_score                           float64\n",
       "gdp_growth_per                         float64\n",
       "gdp_percap_per                         float64\n",
       "mortality_rate                         float64\n",
       "gdp_total                              float64\n",
       "gdp_percap                             float64\n",
       "gni_total                              float64\n",
       "fdi_inflows_gdp                        float64\n",
       "fdi_inflows_total                        int64\n",
       "conflict_fatalities                      int64\n",
       "conflict_events                        float64\n",
       "dtype: object"
      ]
     },
     "execution_count": 5,
     "metadata": {},
     "output_type": "execute_result"
    }
   ],
   "source": [
    "africa_data.dtypes"
   ]
  },
  {
   "cell_type": "code",
   "execution_count": 6,
   "metadata": {},
   "outputs": [
    {
     "data": {
      "text/plain": [
       "Index(['country_name', 'country_code', 'year', 'conflict_frequency_code',\n",
       "       'conflict_deaths_code', 'population_density',\n",
       "       'population_growth_annual_per', 'total_population',\n",
       "       'refugee_pop_origin', 'rural_population', 'rural_population_per',\n",
       "       'rural_population_growth', 'urban_population', 'urban_population_per',\n",
       "       'urban_population_growth', 'corruption_control_estimate',\n",
       "       'corruption_control_percentile', 'government _effectiveness_est',\n",
       "       'government_effectiveness_percentile', 'stability_est',\n",
       "       'stability_percentile', 'regulatory_est', 'regulatory_percentile',\n",
       "       'ruleoflaw_est', 'ruleoflaw_percentile', 'accountability_est',\n",
       "       'accountability_percentile ', 'ethnic_score', 'gdp_growth_per',\n",
       "       'gdp_percap_per', 'mortality_rate', 'gdp_total', 'gdp_percap',\n",
       "       'gni_total', 'fdi_inflows_gdp', 'fdi_inflows_total',\n",
       "       'conflict_fatalities', 'conflict_events'],\n",
       "      dtype='object')"
      ]
     },
     "execution_count": 6,
     "metadata": {},
     "output_type": "execute_result"
    }
   ],
   "source": [
    "africa_data.columns"
   ]
  },
  {
   "cell_type": "code",
   "execution_count": 7,
   "metadata": {},
   "outputs": [
    {
     "data": {
      "text/html": [
       "<div>\n",
       "<style scoped>\n",
       "    .dataframe tbody tr th:only-of-type {\n",
       "        vertical-align: middle;\n",
       "    }\n",
       "\n",
       "    .dataframe tbody tr th {\n",
       "        vertical-align: top;\n",
       "    }\n",
       "\n",
       "    .dataframe thead th {\n",
       "        text-align: right;\n",
       "    }\n",
       "</style>\n",
       "<table border=\"1\" class=\"dataframe\">\n",
       "  <thead>\n",
       "    <tr style=\"text-align: right;\">\n",
       "      <th></th>\n",
       "      <th>population_density</th>\n",
       "      <th>population_growth_annual_per</th>\n",
       "      <th>total_population</th>\n",
       "      <th>conflict_events</th>\n",
       "    </tr>\n",
       "  </thead>\n",
       "  <tbody>\n",
       "    <tr>\n",
       "      <td>0</td>\n",
       "      <td>17.7</td>\n",
       "      <td>2.0</td>\n",
       "      <td>42228429.0</td>\n",
       "      <td>701.0</td>\n",
       "    </tr>\n",
       "    <tr>\n",
       "      <td>1</td>\n",
       "      <td>24.7</td>\n",
       "      <td>3.3</td>\n",
       "      <td>30809762.0</td>\n",
       "      <td>71.0</td>\n",
       "    </tr>\n",
       "    <tr>\n",
       "      <td>2</td>\n",
       "      <td>101.9</td>\n",
       "      <td>2.7</td>\n",
       "      <td>11485048.0</td>\n",
       "      <td>32.0</td>\n",
       "    </tr>\n",
       "    <tr>\n",
       "      <td>3</td>\n",
       "      <td>4.0</td>\n",
       "      <td>2.2</td>\n",
       "      <td>2254126.0</td>\n",
       "      <td>9.0</td>\n",
       "    </tr>\n",
       "    <tr>\n",
       "      <td>4</td>\n",
       "      <td>72.2</td>\n",
       "      <td>2.9</td>\n",
       "      <td>19751535.0</td>\n",
       "      <td>398.0</td>\n",
       "    </tr>\n",
       "  </tbody>\n",
       "</table>\n",
       "</div>"
      ],
      "text/plain": [
       "   population_density  population_growth_annual_per  total_population  \\\n",
       "0                17.7                           2.0        42228429.0   \n",
       "1                24.7                           3.3        30809762.0   \n",
       "2               101.9                           2.7        11485048.0   \n",
       "3                 4.0                           2.2         2254126.0   \n",
       "4                72.2                           2.9        19751535.0   \n",
       "\n",
       "   conflict_events  \n",
       "0            701.0  \n",
       "1             71.0  \n",
       "2             32.0  \n",
       "3              9.0  \n",
       "4            398.0  "
      ]
     },
     "execution_count": 7,
     "metadata": {},
     "output_type": "execute_result"
    }
   ],
   "source": [
    "africa_pop=africa_data[['population_density', 'population_growth_annual_per', 'total_population', 'conflict_events']]\n",
    "africa_pop.head()"
   ]
  },
  {
   "cell_type": "code",
   "execution_count": null,
   "metadata": {},
   "outputs": [],
   "source": []
  },
  {
   "cell_type": "code",
   "execution_count": 8,
   "metadata": {},
   "outputs": [
    {
     "name": "stdout",
     "output_type": "stream",
     "text": [
      "(52, 3) (52, 1)\n"
     ]
    }
   ],
   "source": [
    "X=africa_pop[['population_density', 'population_growth_annual_per', 'total_population']]\n",
    "y=africa_pop['conflict_events'].values.reshape(-1,1)\n",
    "print(X.shape, y.shape)"
   ]
  },
  {
   "cell_type": "code",
   "execution_count": 9,
   "metadata": {},
   "outputs": [
    {
     "data": {
      "text/plain": [
       "LinearRegression(copy_X=True, fit_intercept=True, n_jobs=None, normalize=False)"
      ]
     },
     "execution_count": 9,
     "metadata": {},
     "output_type": "execute_result"
    }
   ],
   "source": [
    "from sklearn.linear_model import LinearRegression\n",
    "model = LinearRegression()\n",
    "model.fit(X, y)"
   ]
  },
  {
   "cell_type": "code",
   "execution_count": 10,
   "metadata": {},
   "outputs": [
    {
     "data": {
      "text/html": [
       "<div>\n",
       "<style scoped>\n",
       "    .dataframe tbody tr th:only-of-type {\n",
       "        vertical-align: middle;\n",
       "    }\n",
       "\n",
       "    .dataframe tbody tr th {\n",
       "        vertical-align: top;\n",
       "    }\n",
       "\n",
       "    .dataframe thead th {\n",
       "        text-align: right;\n",
       "    }\n",
       "</style>\n",
       "<table border=\"1\" class=\"dataframe\">\n",
       "  <thead>\n",
       "    <tr style=\"text-align: right;\">\n",
       "      <th></th>\n",
       "      <th>population_density</th>\n",
       "      <th>population_growth_annual_per</th>\n",
       "      <th>total_population</th>\n",
       "    </tr>\n",
       "  </thead>\n",
       "  <tbody>\n",
       "    <tr>\n",
       "      <td>6</td>\n",
       "      <td>134.9</td>\n",
       "      <td>1.2</td>\n",
       "      <td>543767.0</td>\n",
       "    </tr>\n",
       "    <tr>\n",
       "      <td>34</td>\n",
       "      <td>37.5</td>\n",
       "      <td>2.9</td>\n",
       "      <td>29495962.0</td>\n",
       "    </tr>\n",
       "    <tr>\n",
       "      <td>4</td>\n",
       "      <td>72.2</td>\n",
       "      <td>2.9</td>\n",
       "      <td>19751535.0</td>\n",
       "    </tr>\n",
       "    <tr>\n",
       "      <td>37</td>\n",
       "      <td>215.1</td>\n",
       "      <td>2.6</td>\n",
       "      <td>195874740.0</td>\n",
       "    </tr>\n",
       "    <tr>\n",
       "      <td>24</td>\n",
       "      <td>90.3</td>\n",
       "      <td>2.3</td>\n",
       "      <td>51393010.0</td>\n",
       "    </tr>\n",
       "  </tbody>\n",
       "</table>\n",
       "</div>"
      ],
      "text/plain": [
       "    population_density  population_growth_annual_per  total_population\n",
       "6                134.9                           1.2          543767.0\n",
       "34                37.5                           2.9        29495962.0\n",
       "4                 72.2                           2.9        19751535.0\n",
       "37               215.1                           2.6       195874740.0\n",
       "24                90.3                           2.3        51393010.0"
      ]
     },
     "execution_count": 10,
     "metadata": {},
     "output_type": "execute_result"
    }
   ],
   "source": [
    "from sklearn.model_selection import train_test_split\n",
    "\n",
    "\n",
    "X_train, X_test, y_train, y_test = train_test_split(X, y, random_state=42)\n",
    "\n",
    "X_train.head()"
   ]
  },
  {
   "cell_type": "code",
   "execution_count": null,
   "metadata": {},
   "outputs": [],
   "source": []
  },
  {
   "cell_type": "code",
   "execution_count": 11,
   "metadata": {},
   "outputs": [],
   "source": [
    "from sklearn.preprocessing import StandardScaler\n",
    "X_scaler = StandardScaler().fit(X_train)\n",
    "y_scaler = StandardScaler().fit(y_train)"
   ]
  },
  {
   "cell_type": "code",
   "execution_count": 12,
   "metadata": {},
   "outputs": [
    {
     "name": "stdout",
     "output_type": "stream",
     "text": [
      "[[ 0.40060323 -1.05355903 -0.71410981]\n",
      " [-0.49731116  0.63702815  0.14043314]\n",
      " [-0.17741763  0.63702815 -0.14717999]\n",
      " [ 1.13995368  0.33868923  5.05121147]\n",
      " [-0.01055675  0.04035032  0.78673882]\n",
      " [-0.40420094 -0.85466642  0.97524384]\n",
      " [-0.09905755 -0.95411273  0.3332641 ]\n",
      " [ 1.12151602  1.43259858  0.53084191]\n",
      " [-0.48846108 -3.92002343 -0.61673481]\n",
      " [-0.72962576  0.73647445 -0.27332352]\n",
      " [-0.23365252 -1.25245164 -0.69662403]\n",
      " [-0.69920361  0.73647445 -0.16706897]\n",
      " [-0.67984406  1.53204489 -0.06774118]\n",
      " [-0.20323037 -1.45134425 -0.66793656]\n",
      " [-0.50099869  0.93536706  1.75116518]\n",
      " [-0.67984406 -0.2579886   0.51624022]\n",
      " [-0.2566996   0.73647445  0.93211338]\n",
      " [-0.80798585 -0.75522012 -0.53303718]\n",
      " [-0.80337643  0.53758184 -0.60019261]\n",
      " [ 3.75441488  0.33868923 -0.36705968]\n",
      " [ 0.93068616  0.33868923 -0.19464765]\n",
      " [-0.62545295  0.13979662  0.50364011]\n",
      " [-0.61531223  1.03481337  0.1792108 ]\n",
      " [-0.37746632  0.53758184 -0.36374274]\n",
      " [ 0.09638172  0.43813554 -0.39117075]\n",
      " [ 1.1832822  -0.3574349  -0.72393082]\n",
      " [-0.81536092 -0.3574349  -0.6578976 ]\n",
      " [-0.11657333  0.33868923  0.00977522]\n",
      " [-0.1571362  -1.15300534 -0.3888049 ]\n",
      " [ 3.27964495 -0.05909599 -0.70559292]\n",
      " [-0.22812122  0.23924293 -0.674838  ]\n",
      " [-0.76742298  0.33868923 -0.66760766]\n",
      " [-0.49915493 -0.85466642 -0.3039824 ]\n",
      " [ 0.36280601 -0.05909599  0.14843619]\n",
      " [-0.35165359  0.33868923  0.01411426]\n",
      " [ 1.09662517 -1.25245164 -0.72730346]\n",
      " [-0.41249789  1.43259858 -0.69152423]\n",
      " [-0.42724802  0.43813554  0.0449915 ]\n",
      " [-0.70104738  0.33868923 -0.57536865]]\n"
     ]
    }
   ],
   "source": [
    "X_train_scaled = X_scaler.transform(X_train)\n",
    "X_test_scaled = X_scaler.transform(X_test)\n",
    "y_train_scaled = y_scaler.transform(y_train)\n",
    "y_test_scaled = y_scaler.transform(y_test)\n",
    "\n",
    "print(X_train_scaled)"
   ]
  },
  {
   "cell_type": "code",
   "execution_count": 13,
   "metadata": {},
   "outputs": [
    {
     "data": {
      "text/plain": [
       "LinearRegression(copy_X=True, fit_intercept=True, n_jobs=None, normalize=False)"
      ]
     },
     "execution_count": 13,
     "metadata": {},
     "output_type": "execute_result"
    }
   ],
   "source": [
    "from sklearn.linear_model import LinearRegression\n",
    "model = LinearRegression()\n",
    "model.fit(X_train_scaled, y_train_scaled)\n"
   ]
  },
  {
   "cell_type": "code",
   "execution_count": 14,
   "metadata": {},
   "outputs": [
    {
     "data": {
      "text/plain": [
       "array([ 0.40060323, -1.05355903, -0.71410981])"
      ]
     },
     "execution_count": 14,
     "metadata": {},
     "output_type": "execute_result"
    }
   ],
   "source": [
    "X_train_scaled[0]"
   ]
  },
  {
   "cell_type": "code",
   "execution_count": 15,
   "metadata": {},
   "outputs": [
    {
     "data": {
      "text/plain": [
       "<matplotlib.collections.PathCollection at 0x1544b76cf08>"
      ]
     },
     "execution_count": 15,
     "metadata": {},
     "output_type": "execute_result"
    },
    {
     "data": {
      "image/png": "[encoded data removed]",
      "text/plain": [
       "<Figure size 864x432 with 2 Axes>"
      ]
     },
     "metadata": {
      "needs_background": "light"
     },
     "output_type": "display_data"
    }
   ],
   "source": [
    "fig1 = plt.figure(figsize=(12, 6))\n",
    "axes1 = fig1.add_subplot(1, 2, 1)\n",
    "axes2 = fig1.add_subplot(1, 2, 2)\n",
    "\n",
    "axes1.set_title(\"Original Data\")\n",
    "axes2.set_title(\"Scaled Data\")\n",
    "\n",
    "maxx = X_train[\"population_growth_annual_per\"].max()\n",
    "maxy = y_train.max()\n",
    "axes1.set_xlim(-maxx + 1, maxx + 1)\n",
    "axes1.set_ylim(-maxy + 1, maxy + 1)\n",
    "\n",
    "axes2.set_xlim(-2, 2)\n",
    "axes2.set_ylim(-2, 2)\n",
    "\n",
    "def set_axes(ax):\n",
    "    ax.spines['left'].set_position('center')\n",
    "    ax.spines['right'].set_color('none')\n",
    "    ax.spines['bottom'].set_position('center')\n",
    "    ax.spines['top'].set_color('none')\n",
    "    ax.xaxis.set_ticks_position('bottom')\n",
    "    ax.yaxis.set_ticks_position('left')\n",
    "    \n",
    "set_axes(axes1)\n",
    "set_axes(axes2)\n",
    "\n",
    "axes1.scatter(X_train[\"population_growth_annual_per\"], y_train)\n",
    "axes2.scatter(X_train_scaled[:,0], y_train_scaled[:])"
   ]
  },
  {
   "cell_type": "code",
   "execution_count": 16,
   "metadata": {},
   "outputs": [
    {
     "name": "stdout",
     "output_type": "stream",
     "text": [
      "                                 OLS Regression Results                                \n",
      "=======================================================================================\n",
      "Dep. Variable:                      y   R-squared (uncentered):                   0.702\n",
      "Model:                            OLS   Adj. R-squared (uncentered):              0.684\n",
      "Method:                 Least Squares   F-statistic:                              38.47\n",
      "Date:                Tue, 01 Sep 2020   Prob (F-statistic):                    6.31e-13\n",
      "Time:                        20:14:59   Log-Likelihood:                         -368.02\n",
      "No. Observations:                  52   AIC:                                      742.0\n",
      "Df Residuals:                      49   BIC:                                      747.9\n",
      "Df Model:                           3                                                  \n",
      "Covariance Type:            nonrobust                                                  \n",
      "================================================================================================\n",
      "                                   coef    std err          t      P>|t|      [0.025      0.975]\n",
      "------------------------------------------------------------------------------------------------\n",
      "population_density               0.0312      0.290      0.108      0.915      -0.552       0.614\n",
      "population_growth_annual_per    18.9782     23.287      0.815      0.419     -27.820      65.776\n",
      "total_population              9.768e-06   1.21e-06      8.039      0.000    7.33e-06    1.22e-05\n",
      "==============================================================================\n",
      "Omnibus:                       12.651   Durbin-Watson:                   1.985\n",
      "Prob(Omnibus):                  0.002   Jarque-Bera (JB):               13.046\n",
      "Skew:                           1.118   Prob(JB):                      0.00147\n",
      "Kurtosis:                       4.009   Cond. No.                     2.38e+07\n",
      "==============================================================================\n",
      "\n",
      "Warnings:\n",
      "[1] Standard Errors assume that the covariance matrix of the errors is correctly specified.\n",
      "[2] The condition number is large, 2.38e+07. This might indicate that there are\n",
      "strong multicollinearity or other numerical problems.\n"
     ]
    }
   ],
   "source": [
    "summodel = sm.OLS(y, X)\n",
    "results = summodel.fit()\n",
    "print(results.summary())"
   ]
  },
  {
   "cell_type": "code",
   "execution_count": 17,
   "metadata": {},
   "outputs": [
    {
     "name": "stdout",
     "output_type": "stream",
     "text": [
      "MSE: 0.6915518947700421, R2: -0.2633783467426094\n"
     ]
    }
   ],
   "source": [
    "from sklearn.metrics import mean_squared_error\n",
    "\n",
    "predictions = model.predict(X_test_scaled)\n",
    "MSE = mean_squared_error(y_test_scaled, predictions)\n",
    "r2 = model.score(X_test_scaled, y_test_scaled)\n",
    "\n",
    "print(f\"MSE: {MSE}, R2: {r2}\")"
   ]
  },
  {
   "cell_type": "code",
   "execution_count": 18,
   "metadata": {},
   "outputs": [
    {
     "data": {
      "text/plain": [
       "Index(['country_name', 'country_code', 'year', 'conflict_frequency_code',\n",
       "       'conflict_deaths_code', 'population_density',\n",
       "       'population_growth_annual_per', 'total_population',\n",
       "       'refugee_pop_origin', 'rural_population', 'rural_population_per',\n",
       "       'rural_population_growth', 'urban_population', 'urban_population_per',\n",
       "       'urban_population_growth', 'corruption_control_estimate',\n",
       "       'corruption_control_percentile', 'government _effectiveness_est',\n",
       "       'government_effectiveness_percentile', 'stability_est',\n",
       "       'stability_percentile', 'regulatory_est', 'regulatory_percentile',\n",
       "       'ruleoflaw_est', 'ruleoflaw_percentile', 'accountability_est',\n",
       "       'accountability_percentile ', 'ethnic_score', 'gdp_growth_per',\n",
       "       'gdp_percap_per', 'mortality_rate', 'gdp_total', 'gdp_percap',\n",
       "       'gni_total', 'fdi_inflows_gdp', 'fdi_inflows_total',\n",
       "       'conflict_fatalities', 'conflict_events'],\n",
       "      dtype='object')"
      ]
     },
     "execution_count": 18,
     "metadata": {},
     "output_type": "execute_result"
    }
   ],
   "source": [
    "africa_data.columns"
   ]
  },
  {
   "cell_type": "code",
   "execution_count": 19,
   "metadata": {},
   "outputs": [],
   "source": [
    "africa_pop2=africa_data[['rural_population_growth', 'urban_population_growth', 'conflict_events']]\n",
    "\n"
   ]
  },
  {
   "cell_type": "code",
   "execution_count": 20,
   "metadata": {},
   "outputs": [
    {
     "name": "stdout",
     "output_type": "stream",
     "text": [
      "(52, 2) (52, 1)\n"
     ]
    }
   ],
   "source": [
    "X=africa_pop2[['rural_population_growth', 'urban_population_growth']]\n",
    "y=africa_pop2['conflict_events'].values.reshape(-1,1)\n",
    "print(X.shape, y.shape)"
   ]
  },
  {
   "cell_type": "code",
   "execution_count": 21,
   "metadata": {},
   "outputs": [
    {
     "data": {
      "text/plain": [
       "LinearRegression(copy_X=True, fit_intercept=True, n_jobs=None, normalize=False)"
      ]
     },
     "execution_count": 21,
     "metadata": {},
     "output_type": "execute_result"
    }
   ],
   "source": [
    "from sklearn.linear_model import LinearRegression\n",
    "model = LinearRegression()\n",
    "model.fit(X, y)"
   ]
  },
  {
   "cell_type": "code",
   "execution_count": 22,
   "metadata": {},
   "outputs": [
    {
     "data": {
      "text/html": [
       "<div>\n",
       "<style scoped>\n",
       "    .dataframe tbody tr th:only-of-type {\n",
       "        vertical-align: middle;\n",
       "    }\n",
       "\n",
       "    .dataframe tbody tr th {\n",
       "        vertical-align: top;\n",
       "    }\n",
       "\n",
       "    .dataframe thead th {\n",
       "        text-align: right;\n",
       "    }\n",
       "</style>\n",
       "<table border=\"1\" class=\"dataframe\">\n",
       "  <thead>\n",
       "    <tr style=\"text-align: right;\">\n",
       "      <th></th>\n",
       "      <th>rural_population_growth</th>\n",
       "      <th>urban_population_growth</th>\n",
       "    </tr>\n",
       "  </thead>\n",
       "  <tbody>\n",
       "    <tr>\n",
       "      <td>6</td>\n",
       "      <td>-0.2</td>\n",
       "      <td>1.9</td>\n",
       "    </tr>\n",
       "    <tr>\n",
       "      <td>34</td>\n",
       "      <td>2.1</td>\n",
       "      <td>4.4</td>\n",
       "    </tr>\n",
       "    <tr>\n",
       "      <td>4</td>\n",
       "      <td>2.0</td>\n",
       "      <td>5.0</td>\n",
       "    </tr>\n",
       "    <tr>\n",
       "      <td>37</td>\n",
       "      <td>0.9</td>\n",
       "      <td>4.2</td>\n",
       "    </tr>\n",
       "    <tr>\n",
       "      <td>24</td>\n",
       "      <td>1.7</td>\n",
       "      <td>4.1</td>\n",
       "    </tr>\n",
       "  </tbody>\n",
       "</table>\n",
       "</div>"
      ],
      "text/plain": [
       "    rural_population_growth  urban_population_growth\n",
       "6                      -0.2                      1.9\n",
       "34                      2.1                      4.4\n",
       "4                       2.0                      5.0\n",
       "37                      0.9                      4.2\n",
       "24                      1.7                      4.1"
      ]
     },
     "execution_count": 22,
     "metadata": {},
     "output_type": "execute_result"
    }
   ],
   "source": [
    "from sklearn.model_selection import train_test_split\n",
    "\n",
    "\n",
    "X_train, X_test, y_train, y_test = train_test_split(X, y, random_state=42)\n",
    "\n",
    "X_train.head()"
   ]
  },
  {
   "cell_type": "code",
   "execution_count": 23,
   "metadata": {},
   "outputs": [],
   "source": [
    "from sklearn.preprocessing import StandardScaler\n",
    "X_scaler = StandardScaler().fit(X_train)\n",
    "y_scaler = StandardScaler().fit(y_train)"
   ]
  },
  {
   "cell_type": "code",
   "execution_count": 24,
   "metadata": {},
   "outputs": [
    {
     "name": "stdout",
     "output_type": "stream",
     "text": [
      "[[-1.31004623 -1.39728525]\n",
      " [ 0.78161027  0.8387883 ]\n",
      " [ 0.69066868  1.37544595]\n",
      " [-0.30968877  0.65990242]\n",
      " [ 0.41784392  0.57045947]\n",
      " [-1.21910464 -1.21839937]\n",
      " [-1.31004623 -1.21839937]\n",
      " [ 1.60008455  2.44876126]\n",
      " [-0.05423286 -0.03226801]\n",
      " [ 1.41820138  0.39157359]\n",
      " [-0.40063036 -1.57617114]\n",
      " [ 0.41784392  1.28600301]\n",
      " [ 2.23667566  0.74934536]\n",
      " [-0.94627988 -1.03951349]\n",
      " [ 0.87255185  0.92823124]\n",
      " [-1.21910464 -0.59229877]\n",
      " [ 0.59972709  1.4648889 ]\n",
      " [-1.03722147 -1.4867282 ]\n",
      " [-0.21874719  0.8387883 ]\n",
      " [ 1.14537661 -0.32396995]\n",
      " [ 1.05443503  0.48101653]\n",
      " [ 0.69066868 -0.23452701]\n",
      " [ 0.05407757  0.74934536]\n",
      " [ 0.96349344  0.30213065]\n",
      " [ 0.41784392  0.39157359]\n",
      " [-2.12852051 -0.41341289]\n",
      " [-1.31004623  0.48101653]\n",
      " [ 0.32690233 -0.05564112]\n",
      " [-0.94627988 -1.66561408]\n",
      " [ 0.69066868 -0.50285583]\n",
      " [ 0.50878551  0.03380182]\n",
      " [-2.03757892 -0.41341289]\n",
      " [ 0.23596075 -1.93394291]\n",
      " [-0.49157195 -0.05564112]\n",
      " [ 0.05407757  0.21268771]\n",
      " [-1.12816306 -1.57617114]\n",
      " [ 0.59972709  0.74934536]\n",
      " [ 0.32690233  0.92823124]\n",
      " [-0.03686401 -0.14508406]]\n"
     ]
    }
   ],
   "source": [
    "X_train_scaled = X_scaler.transform(X_train)\n",
    "X_test_scaled = X_scaler.transform(X_test)\n",
    "y_train_scaled = y_scaler.transform(y_train)\n",
    "y_test_scaled = y_scaler.transform(y_test)\n",
    "\n",
    "print(X_train_scaled)"
   ]
  },
  {
   "cell_type": "code",
   "execution_count": 25,
   "metadata": {},
   "outputs": [
    {
     "data": {
      "text/plain": [
       "array([-1.31004623, -1.39728525])"
      ]
     },
     "execution_count": 25,
     "metadata": {},
     "output_type": "execute_result"
    }
   ],
   "source": [
    "X_train_scaled[0]"
   ]
  },
  {
   "cell_type": "code",
   "execution_count": 26,
   "metadata": {},
   "outputs": [
    {
     "data": {
      "text/plain": [
       "<matplotlib.collections.PathCollection at 0x1544bf41e08>"
      ]
     },
     "execution_count": 26,
     "metadata": {},
     "output_type": "execute_result"
    },
    {
     "data": {
      "image/png": "[encoded data removed]",
      "text/plain": [
       "<Figure size 864x432 with 2 Axes>"
      ]
     },
     "metadata": {
      "needs_background": "light"
     },
     "output_type": "display_data"
    }
   ],
   "source": [
    "fig1 = plt.figure(figsize=(12, 6))\n",
    "axes1 = fig1.add_subplot(1, 2, 1)\n",
    "axes2 = fig1.add_subplot(1, 2, 2)\n",
    "\n",
    "axes1.set_title(\"Original Data\")\n",
    "axes2.set_title(\"Scaled Data\")\n",
    "\n",
    "maxx = X_train['rural_population_growth'].max()\n",
    "maxy = y_train.max()\n",
    "axes1.set_xlim(-maxx + 1, maxx + 1)\n",
    "axes1.set_ylim(-maxy + 1, maxy + 1)\n",
    "\n",
    "axes2.set_xlim(-2, 2)\n",
    "axes2.set_ylim(-2, 2)\n",
    "\n",
    "def set_axes(ax):\n",
    "    ax.spines['left'].set_position('center')\n",
    "    ax.spines['right'].set_color('none')\n",
    "    ax.spines['bottom'].set_position('center')\n",
    "    ax.spines['top'].set_color('none')\n",
    "    ax.xaxis.set_ticks_position('bottom')\n",
    "    ax.yaxis.set_ticks_position('left')\n",
    "    \n",
    "set_axes(axes1)\n",
    "set_axes(axes2)\n",
    "\n",
    "axes1.scatter(X_train['rural_population_growth'], y_train)\n",
    "axes2.scatter(X_train_scaled[:,0], y_train_scaled[:])"
   ]
  },
  {
   "cell_type": "code",
   "execution_count": 27,
   "metadata": {},
   "outputs": [
    {
     "name": "stdout",
     "output_type": "stream",
     "text": [
      "MSE: 9163.976469287663, R2: -16740.432608187195\n"
     ]
    }
   ],
   "source": [
    "from sklearn.metrics import mean_squared_error\n",
    "\n",
    "predictions = model.predict(X_test_scaled)\n",
    "MSE = mean_squared_error(y_test_scaled, predictions)\n",
    "r2 = model.score(X_test_scaled, y_test_scaled)\n",
    "\n",
    "print(f\"MSE: {MSE}, R2: {r2}\")"
   ]
  },
  {
   "cell_type": "code",
   "execution_count": 28,
   "metadata": {},
   "outputs": [
    {
     "name": "stdout",
     "output_type": "stream",
     "text": [
      "                                 OLS Regression Results                                \n",
      "=======================================================================================\n",
      "Dep. Variable:                      y   R-squared (uncentered):                   0.335\n",
      "Model:                            OLS   Adj. R-squared (uncentered):              0.308\n",
      "Method:                 Least Squares   F-statistic:                              12.58\n",
      "Date:                Tue, 01 Sep 2020   Prob (F-statistic):                    3.75e-05\n",
      "Time:                        20:15:00   Log-Likelihood:                         -388.89\n",
      "No. Observations:                  52   AIC:                                      781.8\n",
      "Df Residuals:                      50   BIC:                                      785.7\n",
      "Df Model:                           2                                                  \n",
      "Covariance Type:            nonrobust                                                  \n",
      "===========================================================================================\n",
      "                              coef    std err          t      P>|t|      [0.025      0.975]\n",
      "-------------------------------------------------------------------------------------------\n",
      "rural_population_growth   -34.4198     71.592     -0.481      0.633    -178.218     109.378\n",
      "urban_population_growth    97.2311     32.593      2.983      0.004      31.766     162.696\n",
      "==============================================================================\n",
      "Omnibus:                       30.319   Durbin-Watson:                   2.217\n",
      "Prob(Omnibus):                  0.000   Jarque-Bera (JB):               56.844\n",
      "Skew:                           1.864   Prob(JB):                     4.53e-13\n",
      "Kurtosis:                       6.513   Cond. No.                         4.95\n",
      "==============================================================================\n",
      "\n",
      "Warnings:\n",
      "[1] Standard Errors assume that the covariance matrix of the errors is correctly specified.\n"
     ]
    }
   ],
   "source": [
    "summodel = sm.OLS(y, X)\n",
    "results = summodel.fit()\n",
    "print(results.summary())"
   ]
  }
 ],
 "metadata": {
  "kernelspec": {
   "display_name": "Python 3",
   "language": "python",
   "name": "python3"
  },
  "language_info": {
   "codemirror_mode": {
    "name": "ipython",
    "version": 3
   },
   "file_extension": ".py",
   "mimetype": "text/x-python",
   "name": "python",
   "nbconvert_exporter": "python",
   "pygments_lexer": "ipython3",
   "version": "3.7.6"
  }
 },
 "nbformat": 4,
 "nbformat_minor": 2
}
