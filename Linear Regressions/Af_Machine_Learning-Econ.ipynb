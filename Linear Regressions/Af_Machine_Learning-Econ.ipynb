{
 "cells": [
  {
   "cell_type": "code",
   "execution_count": 1,
   "metadata": {},
   "outputs": [],
   "source": [
    "import pandas as pd\n",
    "from sqlalchemy import create_engine\n",
    "import pymysql\n",
    "import json\n",
    "import pandas as pd\n",
    "import numpy\n",
    "import matplotlib.pyplot as plt\n",
    "import statsmodels.api as sm\n",
    "from statsmodels.sandbox.regression.predstd import wls_prediction_std\n",
    "\n",
    "#from config import local_db_user, local_db_pwd, local_db_endpoint, local_db_port, local_db_name\n",
    "from config import remote_db_endpoint, remote_db_port, remote_db_user, remote_db_pwd, remote_db_name"
   ]
  },
  {
   "cell_type": "code",
   "execution_count": 2,
   "metadata": {},
   "outputs": [],
   "source": [
    "cloud_engine = create_engine(f\"postgresql://{remote_db_user}:{remote_db_pwd}@{remote_db_endpoint}:{remote_db_port}/{remote_db_name}\")"
   ]
  },
  {
   "cell_type": "code",
   "execution_count": 3,
   "metadata": {
    "scrolled": false
   },
   "outputs": [],
   "source": [
    "cloud_conn = cloud_engine.connect()"
   ]
  },
  {
   "cell_type": "code",
   "execution_count": 4,
   "metadata": {},
   "outputs": [],
   "source": [
    "africa_data = pd.read_sql(\"select * from ultimate where year = 2018\", cloud_conn)"
   ]
  },
  {
   "cell_type": "code",
   "execution_count": 5,
   "metadata": {},
   "outputs": [
    {
     "data": {
      "text/plain": [
       "country_name                            object\n",
       "country_code                            object\n",
       "year                                     int64\n",
       "conflict_frequency_code                  int64\n",
       "conflict_deaths_code                   float64\n",
       "population_density                     float64\n",
       "population_growth_annual_per           float64\n",
       "total_population                       float64\n",
       "refugee_pop_origin                      object\n",
       "rural_population                       float64\n",
       "rural_population_per                   float64\n",
       "rural_population_growth                float64\n",
       "urban_population                       float64\n",
       "urban_population_per                   float64\n",
       "urban_population_growth                float64\n",
       "corruption_control_estimate            float64\n",
       "corruption_control_percentile          float64\n",
       "government _effectiveness_est          float64\n",
       "government_effectiveness_percentile    float64\n",
       "stability_est                          float64\n",
       "stability_percentile                   float64\n",
       "regulatory_est                         float64\n",
       "regulatory_percentile                  float64\n",
       "ruleoflaw_est                          float64\n",
       "ruleoflaw_percentile                   float64\n",
       "accountability_est                     float64\n",
       "accountability_percentile              float64\n",
       "ethnic_score                           float64\n",
       "gdp_growth_per                         float64\n",
       "gdp_percap_per                         float64\n",
       "mortality_rate                         float64\n",
       "gdp_total                              float64\n",
       "gdp_percap                             float64\n",
       "gni_total                              float64\n",
       "fdi_inflows_gdp                        float64\n",
       "fdi_inflows_total                        int64\n",
       "conflict_fatalities                      int64\n",
       "conflict_events                        float64\n",
       "dtype: object"
      ]
     },
     "execution_count": 5,
     "metadata": {},
     "output_type": "execute_result"
    }
   ],
   "source": [
    "africa_data.dtypes"
   ]
  },
  {
   "cell_type": "code",
   "execution_count": 6,
   "metadata": {},
   "outputs": [
    {
     "data": {
      "text/plain": [
       "Index(['country_name', 'country_code', 'year', 'conflict_frequency_code',\n",
       "       'conflict_deaths_code', 'population_density',\n",
       "       'population_growth_annual_per', 'total_population',\n",
       "       'refugee_pop_origin', 'rural_population', 'rural_population_per',\n",
       "       'rural_population_growth', 'urban_population', 'urban_population_per',\n",
       "       'urban_population_growth', 'corruption_control_estimate',\n",
       "       'corruption_control_percentile', 'government _effectiveness_est',\n",
       "       'government_effectiveness_percentile', 'stability_est',\n",
       "       'stability_percentile', 'regulatory_est', 'regulatory_percentile',\n",
       "       'ruleoflaw_est', 'ruleoflaw_percentile', 'accountability_est',\n",
       "       'accountability_percentile ', 'ethnic_score', 'gdp_growth_per',\n",
       "       'gdp_percap_per', 'mortality_rate', 'gdp_total', 'gdp_percap',\n",
       "       'gni_total', 'fdi_inflows_gdp', 'fdi_inflows_total',\n",
       "       'conflict_fatalities', 'conflict_events'],\n",
       "      dtype='object')"
      ]
     },
     "execution_count": 6,
     "metadata": {},
     "output_type": "execute_result"
    }
   ],
   "source": [
    "africa_data.columns"
   ]
  },
  {
   "cell_type": "code",
   "execution_count": 7,
   "metadata": {},
   "outputs": [
    {
     "data": {
      "text/html": [
       "<div>\n",
       "<style scoped>\n",
       "    .dataframe tbody tr th:only-of-type {\n",
       "        vertical-align: middle;\n",
       "    }\n",
       "\n",
       "    .dataframe tbody tr th {\n",
       "        vertical-align: top;\n",
       "    }\n",
       "\n",
       "    .dataframe thead th {\n",
       "        text-align: right;\n",
       "    }\n",
       "</style>\n",
       "<table border=\"1\" class=\"dataframe\">\n",
       "  <thead>\n",
       "    <tr style=\"text-align: right;\">\n",
       "      <th></th>\n",
       "      <th>gdp_growth_per</th>\n",
       "      <th>gdp_percap_per</th>\n",
       "      <th>gdp_total</th>\n",
       "      <th>gdp_percap</th>\n",
       "      <th>gni_total</th>\n",
       "      <th>fdi_inflows_gdp</th>\n",
       "      <th>fdi_inflows_total</th>\n",
       "      <th>conflict_fatalities</th>\n",
       "    </tr>\n",
       "  </thead>\n",
       "  <tbody>\n",
       "    <tr>\n",
       "      <td>0</td>\n",
       "      <td>1.40</td>\n",
       "      <td>-0.62</td>\n",
       "      <td>1.740000e+11</td>\n",
       "      <td>4114.72</td>\n",
       "      <td>1.690000e+11</td>\n",
       "      <td>0.87</td>\n",
       "      <td>1506316886</td>\n",
       "      <td>66</td>\n",
       "    </tr>\n",
       "    <tr>\n",
       "      <td>1</td>\n",
       "      <td>-2.00</td>\n",
       "      <td>-5.16</td>\n",
       "      <td>1.010000e+11</td>\n",
       "      <td>3289.65</td>\n",
       "      <td>9.352368e+10</td>\n",
       "      <td>-6.37</td>\n",
       "      <td>-6456076413</td>\n",
       "      <td>41</td>\n",
       "    </tr>\n",
       "    <tr>\n",
       "      <td>2</td>\n",
       "      <td>6.70</td>\n",
       "      <td>3.82</td>\n",
       "      <td>1.425099e+10</td>\n",
       "      <td>1240.83</td>\n",
       "      <td>1.410597e+10</td>\n",
       "      <td>0.99</td>\n",
       "      <td>140607612</td>\n",
       "      <td>30</td>\n",
       "    </tr>\n",
       "    <tr>\n",
       "      <td>3</td>\n",
       "      <td>4.48</td>\n",
       "      <td>2.21</td>\n",
       "      <td>1.866326e+10</td>\n",
       "      <td>8279.60</td>\n",
       "      <td>1.724791e+10</td>\n",
       "      <td>1.23</td>\n",
       "      <td>228718291</td>\n",
       "      <td>1</td>\n",
       "    </tr>\n",
       "    <tr>\n",
       "      <td>4</td>\n",
       "      <td>6.82</td>\n",
       "      <td>3.80</td>\n",
       "      <td>1.619943e+10</td>\n",
       "      <td>820.16</td>\n",
       "      <td>1.571881e+10</td>\n",
       "      <td>1.66</td>\n",
       "      <td>268414908</td>\n",
       "      <td>303</td>\n",
       "    </tr>\n",
       "  </tbody>\n",
       "</table>\n",
       "</div>"
      ],
      "text/plain": [
       "   gdp_growth_per  gdp_percap_per     gdp_total  gdp_percap     gni_total  \\\n",
       "0            1.40           -0.62  1.740000e+11     4114.72  1.690000e+11   \n",
       "1           -2.00           -5.16  1.010000e+11     3289.65  9.352368e+10   \n",
       "2            6.70            3.82  1.425099e+10     1240.83  1.410597e+10   \n",
       "3            4.48            2.21  1.866326e+10     8279.60  1.724791e+10   \n",
       "4            6.82            3.80  1.619943e+10      820.16  1.571881e+10   \n",
       "\n",
       "   fdi_inflows_gdp  fdi_inflows_total  conflict_fatalities  \n",
       "0             0.87         1506316886                   66  \n",
       "1            -6.37        -6456076413                   41  \n",
       "2             0.99          140607612                   30  \n",
       "3             1.23          228718291                    1  \n",
       "4             1.66          268414908                  303  "
      ]
     },
     "execution_count": 7,
     "metadata": {},
     "output_type": "execute_result"
    }
   ],
   "source": [
    "africa_econ=africa_data[['gdp_growth_per','gdp_percap_per', 'gdp_total', 'gdp_percap', 'gni_total', 'fdi_inflows_gdp', 'fdi_inflows_total', 'conflict_fatalities']]\n",
    "africa_econ.head()"
   ]
  },
  {
   "cell_type": "code",
   "execution_count": null,
   "metadata": {},
   "outputs": [],
   "source": []
  },
  {
   "cell_type": "code",
   "execution_count": 8,
   "metadata": {},
   "outputs": [
    {
     "name": "stdout",
     "output_type": "stream",
     "text": [
      "(52, 7) (52, 1)\n"
     ]
    }
   ],
   "source": [
    "X=africa_econ[['gdp_growth_per','gdp_percap_per', 'gdp_total', 'gdp_percap', 'gni_total', 'fdi_inflows_gdp', 'fdi_inflows_total',]]\n",
    "y=africa_econ['conflict_fatalities'].values.reshape(-1,1)\n",
    "print(X.shape, y.shape)"
   ]
  },
  {
   "cell_type": "code",
   "execution_count": 9,
   "metadata": {},
   "outputs": [
    {
     "data": {
      "text/plain": [
       "LinearRegression(copy_X=True, fit_intercept=True, n_jobs=None, normalize=False)"
      ]
     },
     "execution_count": 9,
     "metadata": {},
     "output_type": "execute_result"
    }
   ],
   "source": [
    "from sklearn.linear_model import LinearRegression\n",
    "model = LinearRegression()\n",
    "model.fit(X, y)"
   ]
  },
  {
   "cell_type": "code",
   "execution_count": 10,
   "metadata": {},
   "outputs": [
    {
     "data": {
      "text/html": [
       "<div>\n",
       "<style scoped>\n",
       "    .dataframe tbody tr th:only-of-type {\n",
       "        vertical-align: middle;\n",
       "    }\n",
       "\n",
       "    .dataframe tbody tr th {\n",
       "        vertical-align: top;\n",
       "    }\n",
       "\n",
       "    .dataframe thead th {\n",
       "        text-align: right;\n",
       "    }\n",
       "</style>\n",
       "<table border=\"1\" class=\"dataframe\">\n",
       "  <thead>\n",
       "    <tr style=\"text-align: right;\">\n",
       "      <th></th>\n",
       "      <th>gdp_growth_per</th>\n",
       "      <th>gdp_percap_per</th>\n",
       "      <th>gdp_total</th>\n",
       "      <th>gdp_percap</th>\n",
       "      <th>gni_total</th>\n",
       "      <th>fdi_inflows_gdp</th>\n",
       "      <th>fdi_inflows_total</th>\n",
       "    </tr>\n",
       "  </thead>\n",
       "  <tbody>\n",
       "    <tr>\n",
       "      <td>6</td>\n",
       "      <td>4.53</td>\n",
       "      <td>3.33</td>\n",
       "      <td>1.966983e+09</td>\n",
       "      <td>3617.33</td>\n",
       "      <td>1.920636e+09</td>\n",
       "      <td>5.49</td>\n",
       "      <td>107974094</td>\n",
       "    </tr>\n",
       "    <tr>\n",
       "      <td>34</td>\n",
       "      <td>3.43</td>\n",
       "      <td>0.46</td>\n",
       "      <td>1.471722e+10</td>\n",
       "      <td>498.96</td>\n",
       "      <td>1.442168e+10</td>\n",
       "      <td>18.20</td>\n",
       "      <td>2678190544</td>\n",
       "    </tr>\n",
       "    <tr>\n",
       "      <td>4</td>\n",
       "      <td>6.82</td>\n",
       "      <td>3.80</td>\n",
       "      <td>1.619943e+10</td>\n",
       "      <td>820.16</td>\n",
       "      <td>1.571881e+10</td>\n",
       "      <td>1.66</td>\n",
       "      <td>268414908</td>\n",
       "    </tr>\n",
       "    <tr>\n",
       "      <td>37</td>\n",
       "      <td>1.92</td>\n",
       "      <td>-0.68</td>\n",
       "      <td>3.980000e+11</td>\n",
       "      <td>2032.73</td>\n",
       "      <td>3.800000e+11</td>\n",
       "      <td>0.50</td>\n",
       "      <td>1997485165</td>\n",
       "    </tr>\n",
       "    <tr>\n",
       "      <td>24</td>\n",
       "      <td>6.32</td>\n",
       "      <td>3.89</td>\n",
       "      <td>8.777858e+10</td>\n",
       "      <td>1707.99</td>\n",
       "      <td>8.632936e+10</td>\n",
       "      <td>1.85</td>\n",
       "      <td>1625921494</td>\n",
       "    </tr>\n",
       "  </tbody>\n",
       "</table>\n",
       "</div>"
      ],
      "text/plain": [
       "    gdp_growth_per  gdp_percap_per     gdp_total  gdp_percap     gni_total  \\\n",
       "6             4.53            3.33  1.966983e+09     3617.33  1.920636e+09   \n",
       "34            3.43            0.46  1.471722e+10      498.96  1.442168e+10   \n",
       "4             6.82            3.80  1.619943e+10      820.16  1.571881e+10   \n",
       "37            1.92           -0.68  3.980000e+11     2032.73  3.800000e+11   \n",
       "24            6.32            3.89  8.777858e+10     1707.99  8.632936e+10   \n",
       "\n",
       "    fdi_inflows_gdp  fdi_inflows_total  \n",
       "6              5.49          107974094  \n",
       "34            18.20         2678190544  \n",
       "4              1.66          268414908  \n",
       "37             0.50         1997485165  \n",
       "24             1.85         1625921494  "
      ]
     },
     "execution_count": 10,
     "metadata": {},
     "output_type": "execute_result"
    }
   ],
   "source": [
    "from sklearn.model_selection import train_test_split\n",
    "\n",
    "\n",
    "X_train, X_test, y_train, y_test = train_test_split(X, y, random_state=42)\n",
    "\n",
    "X_train.head()"
   ]
  },
  {
   "cell_type": "code",
   "execution_count": null,
   "metadata": {},
   "outputs": [],
   "source": []
  },
  {
   "cell_type": "code",
   "execution_count": 11,
   "metadata": {},
   "outputs": [],
   "source": [
    "from sklearn.preprocessing import StandardScaler\n",
    "X_scaler = StandardScaler().fit(X_train)\n",
    "y_scaler = StandardScaler().fit(y_train)"
   ]
  },
  {
   "cell_type": "code",
   "execution_count": 12,
   "metadata": {},
   "outputs": [
    {
     "name": "stdout",
     "output_type": "stream",
     "text": [
      "[[ 2.73980693e-01  5.50507599e-01 -5.44628636e-01  2.66241326e-01\n",
      "  -5.44047589e-01  1.82999503e-01 -3.96702239e-01]\n",
      " [-4.46360522e-02 -2.41196314e-01 -3.96098721e-01 -7.12200753e-01\n",
      "  -3.92890437e-01  2.04986560e+00  1.10058261e+00]\n",
      " [ 9.37282827e-01  6.80159459e-01 -3.78832165e-01 -6.11418744e-01\n",
      "  -3.77206092e-01 -3.79557314e-01 -3.03237115e-01]\n",
      " [-4.82009948e-01 -5.55671039e-01  4.06883359e+00 -2.30954106e-01\n",
      "   4.02752217e+00 -5.49940058e-01  7.04036296e-01]\n",
      " [ 7.92457034e-01  7.04986411e-01  4.55006639e-01 -3.32846852e-01\n",
      "   4.76585638e-01 -3.51649796e-01  4.87581120e-01]\n",
      " [-8.09316242e-01 -5.25326987e-01  3.71935801e+00  1.13120324e+00\n",
      "   3.74941626e+00 -4.01589565e-01  2.78489890e+00]\n",
      " [-1.72082750e-01  9.81053630e-02  8.07061543e-01  1.42262510e-01\n",
      "   8.23258458e-01 -1.81267052e-01  1.60518725e+00]\n",
      " [ 7.46112780e-01  2.60859826e-01 -1.85765669e-01 -6.28067229e-01\n",
      "  -1.82198620e-01 -1.50421900e-01  1.55195484e-01]\n",
      " [-2.90839901e-01 -2.82574567e-01 -5.00955599e-01 -6.27392629e-01\n",
      "  -5.33303827e-01  6.22175712e-01 -4.24058355e-01]\n",
      " [-3.51666734e-01 -5.52912489e-01 -4.36615244e-01 -6.40915994e-01\n",
      "  -4.33356822e-01  2.41752173e-01 -7.38329759e-02]\n",
      " [-3.57459766e-01 -3.96099519e-03 -5.12667520e-01  4.32111194e-01\n",
      "  -5.15100971e-01 -5.26438990e-01 -4.41467441e-01]\n",
      " [ 3.08738884e-01  5.94856599e-02 -3.67502306e-01 -5.86333060e-01\n",
      "  -3.65147733e-01 -2.23862738e-01 -1.87511817e-01]\n",
      " [ 9.89420113e-01  4.59475442e-01 -4.18121188e-01 -6.89430671e-01\n",
      "  -4.14507171e-01 -9.02004135e-02 -1.88108890e-01]\n",
      " [-1.16848421e+00 -7.10149852e-01 -5.37535342e-01 -4.85372203e-01\n",
      "  -5.31879290e-01  1.11027482e-01 -3.84630433e-01]\n",
      " [ 6.47631240e-01  3.10513730e-01 -2.19953798e-02 -6.93970882e-01\n",
      "  -1.65038859e-02 -2.20925105e-01  2.88768866e-01]\n",
      " [-6.32628774e-01 -5.39119738e-01  1.45941595e+00  4.22305970e-01\n",
      "   1.47620276e+00 -4.95593838e-01  4.17905211e-01]\n",
      " [ 5.37563637e-01  2.80169678e-01  1.08124376e-01 -5.35854200e-01\n",
      "   1.12401980e-01 -3.56056246e-01  1.55567103e-01]\n",
      " [ 3.34428751e+00  3.34216042e+00  4.52966842e-02  1.60282351e+00\n",
      "   7.98822829e-02 -6.42475513e-01 -5.79550233e-01]\n",
      " [-4.24079631e-01 -5.55671039e-01 -4.85425301e-01 -3.66454451e-01\n",
      "  -4.82500649e-01 -4.76499220e-01 -4.18384282e-01]\n",
      " [ 1.44417310e+00  1.21531820e+00 -4.55387283e-01 -6.23197563e-01\n",
      "  -4.54633157e-01 -1.63641251e-01 -2.83932645e-01]\n",
      " [-1.19945465e-01 -2.35679214e-01 -4.86961454e-01 -7.49131147e-01\n",
      "  -4.85622719e-01 -4.05996016e-01 -4.00163169e-01]\n",
      " [-1.71013268e+00 -1.64529838e+00 -2.63747843e-01 -6.73008098e-01\n",
      "  -2.74744114e-01  1.70232096e-02  2.02052365e-01]\n",
      " [-1.61744417e+00 -1.79150154e+00  6.09025383e-01  1.63426105e-01\n",
      "   5.63576261e-01 -1.55901717e+00 -4.22060327e+00]\n",
      " [ 7.51905812e-01  5.20163547e-01 -4.25339418e-01 -5.60227632e-01\n",
      "  -4.27962788e-01 -1.98892853e-01 -2.54101709e-01]\n",
      " [ 9.02524637e-01  6.85676560e-01 -4.01530006e-01 -4.79426315e-01\n",
      "  -3.96707913e-01 -4.77968037e-01 -3.77691516e-01]\n",
      " [-2.67667774e-01 -1.63956908e-01 -5.62622986e-01 -2.40866010e-01\n",
      "  -5.62135002e-01  2.00625304e-01 -4.45797263e-01]\n",
      " [-8.35384885e-01 -6.93598550e-01 -4.10811784e-01  8.55527417e-01\n",
      "  -4.09592552e-01 -4.23621817e-01 -3.52711149e-01]\n",
      " [ 9.28593280e-01  7.62915966e-01  1.04903735e-01 -1.46274627e-01\n",
      "   1.07548740e-01 -4.66217503e-01 -9.82278780e-02]\n",
      " [-2.67667774e-01  4.29343586e-02 -1.04250804e-01  2.10221338e-01\n",
      "  -1.02696841e-01 -2.57645523e-01  1.16507940e-01]\n",
      " [-4.46360522e-02 -5.36148992e-02 -5.53813466e-01 -4.24476273e-01\n",
      "  -5.52938337e-01 -5.38189524e-01 -4.55606506e-01]\n",
      " [ 6.25350349e-02 -2.60293970e-02 -5.50556059e-01 -6.24656580e-01\n",
      "  -5.49664532e-01 -4.16277733e-01 -4.47629124e-01]\n",
      " [-7.94833662e-01 -8.53594463e-01 -3.71110528e-01  1.62777114e+00\n",
      "  -3.76768863e-01  1.13965115e-01  3.30923474e-02]\n",
      " [-6.49116633e-02  1.88288736e+00 -2.84332503e-01 -3.40455705e-01\n",
      "  -2.92712247e-01 -1.73922968e-01 -2.58128463e-02]\n",
      " [ 7.75077939e-01  7.24296263e-01  1.96137045e-01 -1.77745472e-01\n",
      "   2.09856421e-01  4.63995446e-02  1.28166568e+00]\n",
      " [ 1.37844448e-01  1.25903061e-02 -1.16787677e-01 -3.87285453e-01\n",
      "  -1.09303984e-01 -3.32555178e-01 -1.38968526e-02]\n",
      " [ 4.80524556e-02  3.96028787e-01 -5.49066676e-01  4.27414293e+00\n",
      "  -5.48997422e-01  2.22612361e+00 -2.80372095e-01]\n",
      " [-2.88032509e+00 -3.04940044e+00 -4.12858808e-01  2.31415875e+00\n",
      "  -4.46029238e-01 -1.85673503e-01 -2.28979522e-01]\n",
      " [ 2.82670241e-01  1.31207966e-01 -4.06161163e-01 -7.03245839e-01\n",
      "  -4.04585378e-01  2.58361101e-02 -1.03059730e-01]\n",
      " [-5.74698456e-01 -6.41186096e-01 -4.31681428e-01 -1.70986928e-01\n",
      "  -4.42512789e-01  4.80830346e+00  2.05302789e+00]]\n"
     ]
    }
   ],
   "source": [
    "X_train_scaled = X_scaler.transform(X_train)\n",
    "X_test_scaled = X_scaler.transform(X_test)\n",
    "y_train_scaled = y_scaler.transform(y_train)\n",
    "y_test_scaled = y_scaler.transform(y_test)\n",
    "\n",
    "print(X_train_scaled)"
   ]
  },
  {
   "cell_type": "code",
   "execution_count": 13,
   "metadata": {},
   "outputs": [
    {
     "data": {
      "text/plain": [
       "LinearRegression(copy_X=True, fit_intercept=True, n_jobs=None, normalize=False)"
      ]
     },
     "execution_count": 13,
     "metadata": {},
     "output_type": "execute_result"
    }
   ],
   "source": [
    "from sklearn.linear_model import LinearRegression\n",
    "model = LinearRegression()\n",
    "model.fit(X_train_scaled, y_train_scaled)\n"
   ]
  },
  {
   "cell_type": "code",
   "execution_count": 14,
   "metadata": {},
   "outputs": [
    {
     "data": {
      "text/plain": [
       "array([ 0.27398069,  0.5505076 , -0.54462864,  0.26624133, -0.54404759,\n",
       "        0.1829995 , -0.39670224])"
      ]
     },
     "execution_count": 14,
     "metadata": {},
     "output_type": "execute_result"
    }
   ],
   "source": [
    "X_train_scaled[0]"
   ]
  },
  {
   "cell_type": "code",
   "execution_count": 15,
   "metadata": {},
   "outputs": [
    {
     "data": {
      "text/plain": [
       "<matplotlib.collections.PathCollection at 0x1fc02fb0908>"
      ]
     },
     "execution_count": 15,
     "metadata": {},
     "output_type": "execute_result"
    },
    {
     "data": {
      "image/png": "[encoded data removed]",
      "text/plain": [
       "<Figure size 864x432 with 2 Axes>"
      ]
     },
     "metadata": {
      "needs_background": "light"
     },
     "output_type": "display_data"
    }
   ],
   "source": [
    "fig1 = plt.figure(figsize=(12, 6))\n",
    "axes1 = fig1.add_subplot(1, 2, 1)\n",
    "axes2 = fig1.add_subplot(1, 2, 2)\n",
    "\n",
    "axes1.set_title(\"Original Data\")\n",
    "axes2.set_title(\"Scaled Data\")\n",
    "\n",
    "maxx = X_train['gdp_growth_per'].max()\n",
    "maxy = y_train.max()\n",
    "axes1.set_xlim(-maxx + 1, maxx + 1)\n",
    "axes1.set_ylim(-maxy + 1, maxy + 1)\n",
    "\n",
    "axes2.set_xlim(-2, 2)\n",
    "axes2.set_ylim(-2, 2)\n",
    "\n",
    "def set_axes(ax):\n",
    "    ax.spines['left'].set_position('center')\n",
    "    ax.spines['right'].set_color('none')\n",
    "    ax.spines['bottom'].set_position('center')\n",
    "    ax.spines['top'].set_color('none')\n",
    "    ax.xaxis.set_ticks_position('bottom')\n",
    "    ax.yaxis.set_ticks_position('left')\n",
    "    \n",
    "set_axes(axes1)\n",
    "set_axes(axes2)\n",
    "\n",
    "axes1.scatter(X_train['gdp_growth_per'], y_train)\n",
    "axes2.scatter(X_train_scaled[:,0], y_train_scaled[:])"
   ]
  },
  {
   "cell_type": "code",
   "execution_count": null,
   "metadata": {},
   "outputs": [],
   "source": []
  },
  {
   "cell_type": "code",
   "execution_count": 16,
   "metadata": {},
   "outputs": [
    {
     "name": "stdout",
     "output_type": "stream",
     "text": [
      "MSE: 0.37574718563271986, R2: -0.6441423502778698\n"
     ]
    }
   ],
   "source": [
    "from sklearn.metrics import mean_squared_error\n",
    "\n",
    "predictions = model.predict(X_test_scaled)\n",
    "MSE = mean_squared_error(y_test_scaled, predictions)\n",
    "r2 = model.score(X_test_scaled, y_test_scaled)\n",
    "\n",
    "print(f\"MSE: {MSE}, R2: {r2}\")"
   ]
  },
  {
   "cell_type": "code",
   "execution_count": 17,
   "metadata": {},
   "outputs": [
    {
     "name": "stdout",
     "output_type": "stream",
     "text": [
      "                                 OLS Regression Results                                \n",
      "=======================================================================================\n",
      "Dep. Variable:                      y   R-squared (uncentered):                   0.526\n",
      "Model:                            OLS   Adj. R-squared (uncentered):              0.452\n",
      "Method:                 Least Squares   F-statistic:                              7.131\n",
      "Date:                Tue, 01 Sep 2020   Prob (F-statistic):                    9.80e-06\n",
      "Time:                        19:39:42   Log-Likelihood:                         -418.31\n",
      "No. Observations:                  52   AIC:                                      850.6\n",
      "Df Residuals:                      45   BIC:                                      864.3\n",
      "Df Model:                           7                                                  \n",
      "Covariance Type:            nonrobust                                                  \n",
      "=====================================================================================\n",
      "                        coef    std err          t      P>|t|      [0.025      0.975]\n",
      "-------------------------------------------------------------------------------------\n",
      "gdp_growth_per       66.3336     54.932      1.208      0.234     -44.304     176.972\n",
      "gdp_percap_per       22.0091     70.893      0.310      0.758    -120.777     164.795\n",
      "gdp_total          3.328e-07    1.4e-07      2.371      0.022    5.01e-08    6.15e-07\n",
      "gdp_percap           -0.0442      0.035     -1.276      0.208      -0.114       0.026\n",
      "gni_total         -3.383e-07   1.47e-07     -2.307      0.026   -6.34e-07   -4.29e-08\n",
      "fdi_inflows_gdp     -10.3183     26.962     -0.383      0.704     -64.623      43.987\n",
      "fdi_inflows_total  6.561e-08   1.24e-07      0.528      0.600   -1.85e-07    3.16e-07\n",
      "==============================================================================\n",
      "Omnibus:                       17.078   Durbin-Watson:                   2.032\n",
      "Prob(Omnibus):                  0.000   Jarque-Bera (JB):               22.133\n",
      "Skew:                           1.186   Prob(JB):                     1.56e-05\n",
      "Kurtosis:                       5.143   Cond. No.                     9.96e+10\n",
      "==============================================================================\n",
      "\n",
      "Warnings:\n",
      "[1] Standard Errors assume that the covariance matrix of the errors is correctly specified.\n",
      "[2] The condition number is large, 9.96e+10. This might indicate that there are\n",
      "strong multicollinearity or other numerical problems.\n"
     ]
    }
   ],
   "source": [
    "summodel = sm.OLS(y, X)\n",
    "results = summodel.fit()\n",
    "print(results.summary())"
   ]
  }
 ],
 "metadata": {
  "kernelspec": {
   "display_name": "Python 3",
   "language": "python",
   "name": "python3"
  },
  "language_info": {
   "codemirror_mode": {
    "name": "ipython",
    "version": 3
   },
   "file_extension": ".py",
   "mimetype": "text/x-python",
   "name": "python",
   "nbconvert_exporter": "python",
   "pygments_lexer": "ipython3",
   "version": "3.7.6"
  }
 },
 "nbformat": 4,
 "nbformat_minor": 2
}
